{
 "cells": [
  {
   "cell_type": "code",
   "execution_count": null,
   "metadata": {},
   "outputs": [],
   "source": [
    "#aplicando um poouco de Biblioteca Numpy\n",
    "\n",
    "import numpy as np\n",
    "\n",
    "#Criando uma Matriz unidimensional ou sema apenas uma dimensão\n",
    "\n",
    "a = np.array([12,34,26,18,10])\n",
    "b = np.random.random((10,10))\n",
    "print(a)\n",
    "print(a.dtype)\n",
    "print(b)\n",
    "print(b.dtype)"
   ]
  },
  {
   "cell_type": "code",
   "execution_count": null,
   "metadata": {},
   "outputs": [],
   "source": [
    "array_zeros = np.zeros(10)\n",
    "array_ones = np.ones(10)\n",
    "\n",
    "print(array_ones)\n",
    "print(array_ones.dtype)\n",
    "print(array_zeros)\n",
    "print(array_zeros.dtype)"
   ]
  },
  {
   "cell_type": "code",
   "execution_count": null,
   "metadata": {},
   "outputs": [],
   "source": [
    "array_range = np.arange(10)\n",
    "print(array_range)\n",
    "\n",
    "array_range[0]"
   ]
  },
  {
   "cell_type": "code",
   "execution_count": null,
   "metadata": {},
   "outputs": [],
   "source": [
    "for n in range(0,10):\n",
    "    print(n+1)\n",
    "    if n>=5:\n",
    "        print('O Valor de N Agora é: {}'.format(n+1))\n",
    "        if n>=8:\n",
    "            print('estamos saindo do for pois o N é {}'.format(n+1))\n",
    "            break"
   ]
  }
 ],
 "metadata": {
  "kernelspec": {
   "display_name": "Python 3",
   "language": "python",
   "name": "python3"
  },
  "language_info": {
   "codemirror_mode": {
    "name": "ipython",
    "version": 3
   },
   "file_extension": ".py",
   "mimetype": "text/x-python",
   "name": "python",
   "nbconvert_exporter": "python",
   "pygments_lexer": "ipython3",
   "version": "3.11.6"
  }
 },
 "nbformat": 4,
 "nbformat_minor": 2
}
