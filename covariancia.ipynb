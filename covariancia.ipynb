{
 "cells": [
  {
   "cell_type": "code",
   "execution_count": 9,
   "metadata": {},
   "outputs": [
    {
     "data": {
      "text/plain": [
       "Index(['Produto ', 'dia-da-semana', 'hora-do-pedido', 'tempo-entrega',\n",
       "       'tempo-entrega-real', 'data-pedido', 'valor', 'atraso', 'avaliacao'],\n",
       "      dtype='object')"
      ]
     },
     "execution_count": 9,
     "metadata": {},
     "output_type": "execute_result"
    }
   ],
   "source": [
    "import pandas as pd\n",
    "\n",
    "\n",
    "dataFrame = pd.read_csv('https://gist.githubusercontent.com/altinodantas/2d57753e48eeacd20a6c1ff6ebe94f6d/raw/e6868648a75a340a651b5494e0f210f1010810aa/dados-delivery.csv')\n",
    "\n",
    "dataFrame.columns"
   ]
  },
  {
   "cell_type": "code",
   "execution_count": 10,
   "metadata": {},
   "outputs": [
    {
     "data": {
      "application/vnd.plotly.v1+json": {
       "config": {
        "plotlyServerURL": "https://plot.ly"
       },
       "data": [
        {
         "name": "Tempo-Entrega-Real vs Tempo-Entrega",
         "type": "scatter",
         "x": [
          15,
          60,
          30,
          15,
          75,
          30,
          15,
          60,
          15,
          30,
          15,
          60,
          75,
          90,
          60,
          30,
          60,
          105,
          15,
          30,
          90,
          60,
          75,
          60,
          15,
          15,
          30,
          60,
          75,
          30,
          95,
          55,
          15,
          175,
          25,
          100,
          5,
          35,
          60,
          95,
          90,
          165,
          150,
          60,
          40,
          35,
          15,
          65,
          35,
          55,
          30,
          75,
          15,
          45,
          45,
          105,
          110,
          170,
          180,
          55,
          155,
          135,
          125,
          85,
          125,
          55,
          95,
          55,
          145,
          175,
          30,
          20,
          20,
          45,
          130,
          145,
          15,
          160,
          30,
          150,
          60,
          30,
          40,
          40,
          65,
          40,
          165,
          145,
          100,
          35,
          45,
          130,
          75,
          110,
          50,
          10,
          15,
          80,
          50,
          90,
          135,
          135,
          25,
          75,
          25,
          45,
          30,
          135,
          80,
          165,
          55,
          110,
          10,
          15,
          20,
          160,
          80,
          120,
          120,
          145,
          25,
          180,
          60,
          145,
          160,
          175,
          20,
          90,
          15,
          20,
          60,
          50,
          140,
          130,
          55,
          35,
          45,
          85,
          70,
          40,
          80,
          175,
          145,
          65,
          85,
          50,
          120,
          110,
          90,
          55,
          150,
          70,
          60,
          25,
          75,
          145,
          75,
          65,
          50,
          140,
          90,
          45,
          40,
          130,
          85,
          120,
          100,
          75,
          40,
          55,
          90,
          65,
          35,
          145,
          155,
          90,
          150,
          70,
          125,
          100,
          50,
          80,
          15,
          25,
          130,
          160,
          85,
          75,
          105,
          155,
          40,
          45,
          20,
          95,
          65,
          110,
          175,
          100,
          80,
          150,
          150,
          140,
          70,
          60,
          130,
          165,
          25,
          160,
          15,
          50,
          125,
          95,
          155,
          55,
          140,
          90,
          15,
          85,
          40,
          75,
          10,
          155,
          125,
          15,
          175,
          165,
          135,
          80,
          50,
          15,
          25,
          90,
          180,
          60,
          60,
          120,
          150,
          100,
          80,
          170,
          130,
          55,
          65,
          95,
          80,
          15,
          130,
          25,
          175,
          60,
          30,
          95,
          155,
          80,
          85,
          145,
          170,
          50,
          150,
          100,
          85,
          120,
          120,
          125,
          10,
          165,
          115,
          165,
          80,
          20,
          15,
          115,
          20,
          130,
          160,
          80,
          50,
          125,
          160,
          50,
          160,
          175,
          150,
          130,
          120,
          45,
          160,
          55,
          75,
          110,
          105,
          145,
          115,
          120,
          100,
          15,
          50,
          80,
          90,
          60,
          15,
          65,
          165,
          20,
          135,
          60,
          140,
          85,
          40,
          115,
          130,
          105,
          50,
          15,
          85,
          105,
          95,
          140,
          160,
          120,
          80,
          40,
          140,
          40,
          130,
          160,
          85,
          30,
          170,
          45,
          50,
          170,
          95,
          100,
          50,
          55,
          15,
          60,
          160,
          40,
          15,
          150,
          75,
          55,
          30,
          75,
          115,
          170,
          100,
          130,
          30,
          130,
          175,
          60,
          140,
          165,
          115,
          25,
          65,
          145,
          60,
          175,
          155,
          170,
          5,
          40,
          75,
          10,
          30,
          120,
          95,
          85,
          95,
          45,
          115,
          50,
          140,
          110,
          75,
          180,
          60,
          90,
          120,
          95,
          75,
          160,
          60,
          100,
          155,
          50,
          105,
          65,
          165,
          160,
          65,
          40,
          60,
          85,
          150,
          30,
          25,
          50,
          15,
          5,
          40,
          40,
          80,
          125,
          120,
          135,
          125,
          45,
          175,
          45,
          55,
          45,
          65,
          95,
          105,
          115,
          5,
          75,
          105,
          105,
          40,
          170,
          175,
          20,
          75,
          85,
          105,
          165,
          65,
          145,
          120,
          145,
          180,
          80,
          55,
          155,
          140,
          70,
          115,
          20,
          30,
          175,
          150,
          50,
          120,
          160,
          115,
          65,
          150,
          65,
          100,
          30,
          95,
          95,
          65,
          85,
          175,
          65,
          140,
          150,
          55,
          105,
          25,
          50,
          100,
          10,
          105,
          10,
          165,
          125,
          105,
          100,
          90,
          155,
          50,
          90,
          140,
          50,
          175,
          100,
          70,
          45,
          80,
          65,
          165,
          65,
          145,
          20,
          125,
          15,
          95,
          110,
          45,
          135,
          75,
          175,
          35,
          125,
          45,
          165,
          115,
          35,
          5,
          10,
          40,
          170,
          10,
          165,
          40,
          50,
          85,
          180,
          80,
          115,
          65,
          165,
          150,
          85,
          10,
          35,
          60,
          130,
          160,
          60,
          110,
          125,
          null,
          null
         ],
         "y": [
          15,
          15,
          30,
          45,
          60,
          30,
          75,
          15,
          15,
          30,
          30,
          60,
          45,
          45,
          15,
          30,
          90,
          90,
          75,
          60,
          30,
          15,
          60,
          90,
          105,
          90,
          60,
          15,
          30,
          15,
          65,
          10,
          95,
          80,
          135,
          150,
          25,
          105,
          55,
          140,
          35,
          30,
          35,
          140,
          95,
          100,
          50,
          115,
          120,
          75,
          75,
          170,
          50,
          75,
          105,
          110,
          150,
          150,
          20,
          25,
          20,
          75,
          140,
          175,
          110,
          140,
          20,
          170,
          150,
          60,
          25,
          10,
          55,
          180,
          70,
          105,
          35,
          10,
          150,
          120,
          125,
          45,
          110,
          150,
          70,
          45,
          10,
          110,
          25,
          25,
          45,
          155,
          65,
          20,
          85,
          165,
          55,
          130,
          85,
          115,
          135,
          80,
          105,
          145,
          95,
          125,
          105,
          140,
          115,
          10,
          10,
          85,
          90,
          135,
          80,
          70,
          25,
          125,
          100,
          10,
          65,
          20,
          15,
          100,
          35,
          130,
          10,
          160,
          35,
          130,
          125,
          125,
          25,
          30,
          85,
          40,
          160,
          165,
          130,
          135,
          115,
          170,
          65,
          45,
          35,
          90,
          80,
          80,
          110,
          165,
          40,
          105,
          180,
          90,
          90,
          15,
          170,
          10,
          180,
          165,
          165,
          170,
          45,
          45,
          130,
          65,
          135,
          105,
          5,
          145,
          130,
          65,
          20,
          20,
          65,
          120,
          55,
          105,
          5,
          140,
          75,
          15,
          45,
          110,
          175,
          160,
          105,
          120,
          70,
          125,
          170,
          35,
          155,
          40,
          100,
          60,
          75,
          100,
          50,
          150,
          125,
          30,
          170,
          130,
          80,
          165,
          95,
          95,
          50,
          165,
          130,
          110,
          130,
          135,
          90,
          40,
          165,
          100,
          140,
          60,
          145,
          15,
          170,
          55,
          30,
          150,
          30,
          25,
          35,
          175,
          40,
          25,
          130,
          105,
          130,
          145,
          70,
          95,
          45,
          115,
          5,
          20,
          125,
          5,
          175,
          165,
          95,
          95,
          110,
          30,
          25,
          165,
          65,
          65,
          60,
          150,
          160,
          180,
          85,
          170,
          25,
          10,
          80,
          120,
          5,
          40,
          70,
          115,
          160,
          55,
          30,
          10,
          135,
          15,
          70,
          160,
          115,
          165,
          90,
          25,
          115,
          35,
          125,
          40,
          110,
          175,
          85,
          45,
          130,
          50,
          75,
          145,
          180,
          10,
          55,
          140,
          160,
          80,
          50,
          60,
          80,
          5,
          135,
          90,
          40,
          70,
          80,
          10,
          35,
          120,
          125,
          145,
          70,
          50,
          95,
          65,
          95,
          25,
          15,
          125,
          105,
          55,
          135,
          10,
          155,
          175,
          115,
          90,
          100,
          15,
          45,
          170,
          75,
          10,
          5,
          20,
          175,
          100,
          180,
          80,
          70,
          60,
          10,
          105,
          35,
          170,
          85,
          80,
          65,
          110,
          95,
          115,
          115,
          150,
          10,
          80,
          160,
          150,
          175,
          170,
          20,
          105,
          50,
          155,
          155,
          125,
          120,
          35,
          35,
          120,
          25,
          160,
          175,
          10,
          5,
          170,
          145,
          100,
          100,
          90,
          45,
          10,
          110,
          40,
          110,
          15,
          135,
          60,
          125,
          170,
          10,
          60,
          65,
          135,
          65,
          50,
          95,
          30,
          65,
          115,
          45,
          65,
          80,
          150,
          40,
          180,
          145,
          70,
          15,
          85,
          90,
          110,
          95,
          25,
          85,
          20,
          40,
          10,
          95,
          180,
          105,
          115,
          85,
          10,
          75,
          80,
          115,
          5,
          175,
          60,
          30,
          45,
          20,
          150,
          40,
          80,
          25,
          120,
          100,
          10,
          160,
          100,
          90,
          60,
          160,
          50,
          125,
          105,
          175,
          95,
          130,
          110,
          55,
          35,
          155,
          10,
          10,
          120,
          140,
          90,
          35,
          25,
          100,
          60,
          115,
          60,
          85,
          10,
          130,
          75,
          10,
          150,
          70,
          155,
          30,
          45,
          50,
          90,
          150,
          140,
          45,
          160,
          75,
          170,
          165,
          180,
          170,
          85,
          100,
          175,
          130,
          5,
          20,
          160,
          60,
          135,
          35,
          135,
          90,
          90,
          80,
          50,
          110,
          100,
          70,
          105,
          160,
          5,
          35,
          85,
          175,
          75,
          65,
          95,
          55,
          150,
          15,
          180,
          25,
          85,
          170,
          180,
          85,
          70,
          145,
          50,
          165,
          35,
          90,
          95,
          null,
          null
         ]
        }
       ],
       "layout": {
        "annotations": [
         {
          "align": "center",
          "arrowsize": 1,
          "font": {
           "size": 14
          },
          "text": "Cov = nan",
          "x": 5,
          "y": 5
         }
        ],
        "legend": {
         "title": {
          "text": "Parâmetros"
         }
        },
        "template": {
         "data": {
          "bar": [
           {
            "error_x": {
             "color": "#2a3f5f"
            },
            "error_y": {
             "color": "#2a3f5f"
            },
            "marker": {
             "line": {
              "color": "#E5ECF6",
              "width": 0.5
             },
             "pattern": {
              "fillmode": "overlay",
              "size": 10,
              "solidity": 0.2
             }
            },
            "type": "bar"
           }
          ],
          "barpolar": [
           {
            "marker": {
             "line": {
              "color": "#E5ECF6",
              "width": 0.5
             },
             "pattern": {
              "fillmode": "overlay",
              "size": 10,
              "solidity": 0.2
             }
            },
            "type": "barpolar"
           }
          ],
          "carpet": [
           {
            "aaxis": {
             "endlinecolor": "#2a3f5f",
             "gridcolor": "white",
             "linecolor": "white",
             "minorgridcolor": "white",
             "startlinecolor": "#2a3f5f"
            },
            "baxis": {
             "endlinecolor": "#2a3f5f",
             "gridcolor": "white",
             "linecolor": "white",
             "minorgridcolor": "white",
             "startlinecolor": "#2a3f5f"
            },
            "type": "carpet"
           }
          ],
          "choropleth": [
           {
            "colorbar": {
             "outlinewidth": 0,
             "ticks": ""
            },
            "type": "choropleth"
           }
          ],
          "contour": [
           {
            "colorbar": {
             "outlinewidth": 0,
             "ticks": ""
            },
            "colorscale": [
             [
              0,
              "#0d0887"
             ],
             [
              0.1111111111111111,
              "#46039f"
             ],
             [
              0.2222222222222222,
              "#7201a8"
             ],
             [
              0.3333333333333333,
              "#9c179e"
             ],
             [
              0.4444444444444444,
              "#bd3786"
             ],
             [
              0.5555555555555556,
              "#d8576b"
             ],
             [
              0.6666666666666666,
              "#ed7953"
             ],
             [
              0.7777777777777778,
              "#fb9f3a"
             ],
             [
              0.8888888888888888,
              "#fdca26"
             ],
             [
              1,
              "#f0f921"
             ]
            ],
            "type": "contour"
           }
          ],
          "contourcarpet": [
           {
            "colorbar": {
             "outlinewidth": 0,
             "ticks": ""
            },
            "type": "contourcarpet"
           }
          ],
          "heatmap": [
           {
            "colorbar": {
             "outlinewidth": 0,
             "ticks": ""
            },
            "colorscale": [
             [
              0,
              "#0d0887"
             ],
             [
              0.1111111111111111,
              "#46039f"
             ],
             [
              0.2222222222222222,
              "#7201a8"
             ],
             [
              0.3333333333333333,
              "#9c179e"
             ],
             [
              0.4444444444444444,
              "#bd3786"
             ],
             [
              0.5555555555555556,
              "#d8576b"
             ],
             [
              0.6666666666666666,
              "#ed7953"
             ],
             [
              0.7777777777777778,
              "#fb9f3a"
             ],
             [
              0.8888888888888888,
              "#fdca26"
             ],
             [
              1,
              "#f0f921"
             ]
            ],
            "type": "heatmap"
           }
          ],
          "heatmapgl": [
           {
            "colorbar": {
             "outlinewidth": 0,
             "ticks": ""
            },
            "colorscale": [
             [
              0,
              "#0d0887"
             ],
             [
              0.1111111111111111,
              "#46039f"
             ],
             [
              0.2222222222222222,
              "#7201a8"
             ],
             [
              0.3333333333333333,
              "#9c179e"
             ],
             [
              0.4444444444444444,
              "#bd3786"
             ],
             [
              0.5555555555555556,
              "#d8576b"
             ],
             [
              0.6666666666666666,
              "#ed7953"
             ],
             [
              0.7777777777777778,
              "#fb9f3a"
             ],
             [
              0.8888888888888888,
              "#fdca26"
             ],
             [
              1,
              "#f0f921"
             ]
            ],
            "type": "heatmapgl"
           }
          ],
          "histogram": [
           {
            "marker": {
             "pattern": {
              "fillmode": "overlay",
              "size": 10,
              "solidity": 0.2
             }
            },
            "type": "histogram"
           }
          ],
          "histogram2d": [
           {
            "colorbar": {
             "outlinewidth": 0,
             "ticks": ""
            },
            "colorscale": [
             [
              0,
              "#0d0887"
             ],
             [
              0.1111111111111111,
              "#46039f"
             ],
             [
              0.2222222222222222,
              "#7201a8"
             ],
             [
              0.3333333333333333,
              "#9c179e"
             ],
             [
              0.4444444444444444,
              "#bd3786"
             ],
             [
              0.5555555555555556,
              "#d8576b"
             ],
             [
              0.6666666666666666,
              "#ed7953"
             ],
             [
              0.7777777777777778,
              "#fb9f3a"
             ],
             [
              0.8888888888888888,
              "#fdca26"
             ],
             [
              1,
              "#f0f921"
             ]
            ],
            "type": "histogram2d"
           }
          ],
          "histogram2dcontour": [
           {
            "colorbar": {
             "outlinewidth": 0,
             "ticks": ""
            },
            "colorscale": [
             [
              0,
              "#0d0887"
             ],
             [
              0.1111111111111111,
              "#46039f"
             ],
             [
              0.2222222222222222,
              "#7201a8"
             ],
             [
              0.3333333333333333,
              "#9c179e"
             ],
             [
              0.4444444444444444,
              "#bd3786"
             ],
             [
              0.5555555555555556,
              "#d8576b"
             ],
             [
              0.6666666666666666,
              "#ed7953"
             ],
             [
              0.7777777777777778,
              "#fb9f3a"
             ],
             [
              0.8888888888888888,
              "#fdca26"
             ],
             [
              1,
              "#f0f921"
             ]
            ],
            "type": "histogram2dcontour"
           }
          ],
          "mesh3d": [
           {
            "colorbar": {
             "outlinewidth": 0,
             "ticks": ""
            },
            "type": "mesh3d"
           }
          ],
          "parcoords": [
           {
            "line": {
             "colorbar": {
              "outlinewidth": 0,
              "ticks": ""
             }
            },
            "type": "parcoords"
           }
          ],
          "pie": [
           {
            "automargin": true,
            "type": "pie"
           }
          ],
          "scatter": [
           {
            "fillpattern": {
             "fillmode": "overlay",
             "size": 10,
             "solidity": 0.2
            },
            "type": "scatter"
           }
          ],
          "scatter3d": [
           {
            "line": {
             "colorbar": {
              "outlinewidth": 0,
              "ticks": ""
             }
            },
            "marker": {
             "colorbar": {
              "outlinewidth": 0,
              "ticks": ""
             }
            },
            "type": "scatter3d"
           }
          ],
          "scattercarpet": [
           {
            "marker": {
             "colorbar": {
              "outlinewidth": 0,
              "ticks": ""
             }
            },
            "type": "scattercarpet"
           }
          ],
          "scattergeo": [
           {
            "marker": {
             "colorbar": {
              "outlinewidth": 0,
              "ticks": ""
             }
            },
            "type": "scattergeo"
           }
          ],
          "scattergl": [
           {
            "marker": {
             "colorbar": {
              "outlinewidth": 0,
              "ticks": ""
             }
            },
            "type": "scattergl"
           }
          ],
          "scattermapbox": [
           {
            "marker": {
             "colorbar": {
              "outlinewidth": 0,
              "ticks": ""
             }
            },
            "type": "scattermapbox"
           }
          ],
          "scatterpolar": [
           {
            "marker": {
             "colorbar": {
              "outlinewidth": 0,
              "ticks": ""
             }
            },
            "type": "scatterpolar"
           }
          ],
          "scatterpolargl": [
           {
            "marker": {
             "colorbar": {
              "outlinewidth": 0,
              "ticks": ""
             }
            },
            "type": "scatterpolargl"
           }
          ],
          "scatterternary": [
           {
            "marker": {
             "colorbar": {
              "outlinewidth": 0,
              "ticks": ""
             }
            },
            "type": "scatterternary"
           }
          ],
          "surface": [
           {
            "colorbar": {
             "outlinewidth": 0,
             "ticks": ""
            },
            "colorscale": [
             [
              0,
              "#0d0887"
             ],
             [
              0.1111111111111111,
              "#46039f"
             ],
             [
              0.2222222222222222,
              "#7201a8"
             ],
             [
              0.3333333333333333,
              "#9c179e"
             ],
             [
              0.4444444444444444,
              "#bd3786"
             ],
             [
              0.5555555555555556,
              "#d8576b"
             ],
             [
              0.6666666666666666,
              "#ed7953"
             ],
             [
              0.7777777777777778,
              "#fb9f3a"
             ],
             [
              0.8888888888888888,
              "#fdca26"
             ],
             [
              1,
              "#f0f921"
             ]
            ],
            "type": "surface"
           }
          ],
          "table": [
           {
            "cells": {
             "fill": {
              "color": "#EBF0F8"
             },
             "line": {
              "color": "white"
             }
            },
            "header": {
             "fill": {
              "color": "#C8D4E3"
             },
             "line": {
              "color": "white"
             }
            },
            "type": "table"
           }
          ]
         },
         "layout": {
          "annotationdefaults": {
           "arrowcolor": "#2a3f5f",
           "arrowhead": 0,
           "arrowwidth": 1
          },
          "autotypenumbers": "strict",
          "coloraxis": {
           "colorbar": {
            "outlinewidth": 0,
            "ticks": ""
           }
          },
          "colorscale": {
           "diverging": [
            [
             0,
             "#8e0152"
            ],
            [
             0.1,
             "#c51b7d"
            ],
            [
             0.2,
             "#de77ae"
            ],
            [
             0.3,
             "#f1b6da"
            ],
            [
             0.4,
             "#fde0ef"
            ],
            [
             0.5,
             "#f7f7f7"
            ],
            [
             0.6,
             "#e6f5d0"
            ],
            [
             0.7,
             "#b8e186"
            ],
            [
             0.8,
             "#7fbc41"
            ],
            [
             0.9,
             "#4d9221"
            ],
            [
             1,
             "#276419"
            ]
           ],
           "sequential": [
            [
             0,
             "#0d0887"
            ],
            [
             0.1111111111111111,
             "#46039f"
            ],
            [
             0.2222222222222222,
             "#7201a8"
            ],
            [
             0.3333333333333333,
             "#9c179e"
            ],
            [
             0.4444444444444444,
             "#bd3786"
            ],
            [
             0.5555555555555556,
             "#d8576b"
            ],
            [
             0.6666666666666666,
             "#ed7953"
            ],
            [
             0.7777777777777778,
             "#fb9f3a"
            ],
            [
             0.8888888888888888,
             "#fdca26"
            ],
            [
             1,
             "#f0f921"
            ]
           ],
           "sequentialminus": [
            [
             0,
             "#0d0887"
            ],
            [
             0.1111111111111111,
             "#46039f"
            ],
            [
             0.2222222222222222,
             "#7201a8"
            ],
            [
             0.3333333333333333,
             "#9c179e"
            ],
            [
             0.4444444444444444,
             "#bd3786"
            ],
            [
             0.5555555555555556,
             "#d8576b"
            ],
            [
             0.6666666666666666,
             "#ed7953"
            ],
            [
             0.7777777777777778,
             "#fb9f3a"
            ],
            [
             0.8888888888888888,
             "#fdca26"
            ],
            [
             1,
             "#f0f921"
            ]
           ]
          },
          "colorway": [
           "#636efa",
           "#EF553B",
           "#00cc96",
           "#ab63fa",
           "#FFA15A",
           "#19d3f3",
           "#FF6692",
           "#B6E880",
           "#FF97FF",
           "#FECB52"
          ],
          "font": {
           "color": "#2a3f5f"
          },
          "geo": {
           "bgcolor": "white",
           "lakecolor": "white",
           "landcolor": "#E5ECF6",
           "showlakes": true,
           "showland": true,
           "subunitcolor": "white"
          },
          "hoverlabel": {
           "align": "left"
          },
          "hovermode": "closest",
          "mapbox": {
           "style": "light"
          },
          "paper_bgcolor": "white",
          "plot_bgcolor": "#E5ECF6",
          "polar": {
           "angularaxis": {
            "gridcolor": "white",
            "linecolor": "white",
            "ticks": ""
           },
           "bgcolor": "#E5ECF6",
           "radialaxis": {
            "gridcolor": "white",
            "linecolor": "white",
            "ticks": ""
           }
          },
          "scene": {
           "xaxis": {
            "backgroundcolor": "#E5ECF6",
            "gridcolor": "white",
            "gridwidth": 2,
            "linecolor": "white",
            "showbackground": true,
            "ticks": "",
            "zerolinecolor": "white"
           },
           "yaxis": {
            "backgroundcolor": "#E5ECF6",
            "gridcolor": "white",
            "gridwidth": 2,
            "linecolor": "white",
            "showbackground": true,
            "ticks": "",
            "zerolinecolor": "white"
           },
           "zaxis": {
            "backgroundcolor": "#E5ECF6",
            "gridcolor": "white",
            "gridwidth": 2,
            "linecolor": "white",
            "showbackground": true,
            "ticks": "",
            "zerolinecolor": "white"
           }
          },
          "shapedefaults": {
           "line": {
            "color": "#2a3f5f"
           }
          },
          "ternary": {
           "aaxis": {
            "gridcolor": "white",
            "linecolor": "white",
            "ticks": ""
           },
           "baxis": {
            "gridcolor": "white",
            "linecolor": "white",
            "ticks": ""
           },
           "bgcolor": "#E5ECF6",
           "caxis": {
            "gridcolor": "white",
            "linecolor": "white",
            "ticks": ""
           }
          },
          "title": {
           "x": 0.05
          },
          "xaxis": {
           "automargin": true,
           "gridcolor": "white",
           "linecolor": "white",
           "ticks": "",
           "title": {
            "standoff": 15
           },
           "zerolinecolor": "white",
           "zerolinewidth": 2
          },
          "yaxis": {
           "automargin": true,
           "gridcolor": "white",
           "linecolor": "white",
           "ticks": "",
           "title": {
            "standoff": 15
           },
           "zerolinecolor": "white",
           "zerolinewidth": 2
          }
         }
        },
        "title": {
         "text": "Convergendo para o mesmo Valor"
        },
        "xaxis": {
         "title": {
          "text": "Tempo Real"
         }
        },
        "yaxis": {
         "title": {
          "text": "Tempo de Entrega"
         }
        }
       }
      }
     },
     "metadata": {},
     "output_type": "display_data"
    }
   ],
   "source": [
    "import numpy as np\n",
    "import plotly.graph_objects as go\n",
    "import pandas as pd\n",
    "\n",
    "dataFrame = pd.read_csv('https://gist.githubusercontent.com/altinodantas/2d57753e48eeacd20a6c1ff6ebe94f6d/raw/e6868648a75a340a651b5494e0f210f1010810aa/dados-delivery.csv')\n",
    "\n",
    "#Selecionando as colunas do dataFrame\n",
    "tempo_real = dataFrame['tempo-entrega-real']\n",
    "tempo_entrega = dataFrame['tempo-entrega']\n",
    "horario_pedido = dataFrame['hora-do-pedido']\n",
    "\n",
    "#calcular a Convergência\n",
    "conv = np.cov(tempo_real,tempo_entrega)\n",
    "conv_tempreal_pedido = np.cov(tempo_real,horario_pedido)\n",
    "\n",
    "#criar um Gráfico na biblioteca Plotly\n",
    "fig = go.Figure()\n",
    "\n",
    "#Adicionando um título ao gráfico:\n",
    "fig.update_layout(title='Convergendo para o mesmo Valor')\n",
    "\n",
    "fig.update_xaxes(title='Tempo Real')\n",
    "fig.update_yaxes(title='Tempo de Entrega')\n",
    "\n",
    "#Adicionando um trace de linha\n",
    "fig.add_trace(go.Scatter(x=tempo_real, y=tempo_entrega, name='Tempo-Entrega-Real vs Tempo-Entrega'))\n",
    "\n",
    "#Adicionando uma legenda ao gráfico\n",
    "fig.update_layout(legend=dict(title=\"Parâmetros\"))\n",
    "\n",
    "#adicionar a convegência ao Grádfico\n",
    "fig.add_annotation(\n",
    "    x=tempo_real.min(),\n",
    "    y=tempo_entrega.min(),\n",
    "    text=\"Cov = {:.2f}\".format(conv[0,1]),\n",
    "    font_size=14,\n",
    "    align=\"center\",\n",
    "    arrowsize=1,\n",
    ")\n",
    "\n",
    "fig.show()"
   ]
  },
  {
   "cell_type": "code",
   "execution_count": 11,
   "metadata": {},
   "outputs": [
    {
     "data": {
      "application/vnd.plotly.v1+json": {
       "config": {
        "plotlyServerURL": "https://plot.ly"
       },
       "data": [
        {
         "name": "Tempo-Entrega-Real vs Tempo-Entrega",
         "type": "scatter",
         "x": [
          15,
          60,
          30,
          15,
          75,
          30,
          15,
          60,
          15,
          30,
          15,
          60,
          75,
          90,
          60,
          30,
          60,
          105,
          15,
          30,
          90,
          60,
          75,
          60,
          15,
          15,
          30,
          60,
          75,
          30,
          95,
          55,
          15,
          175,
          25,
          100,
          5,
          35,
          60,
          95,
          90,
          165,
          150,
          60,
          40,
          35,
          15,
          65,
          35,
          55,
          30,
          75,
          15,
          45,
          45,
          105,
          110,
          170,
          180,
          55,
          155,
          135,
          125,
          85,
          125,
          55,
          95,
          55,
          145,
          175,
          30,
          20,
          20,
          45,
          130,
          145,
          15,
          160,
          30,
          150,
          60,
          30,
          40,
          40,
          65,
          40,
          165,
          145,
          100,
          35,
          45,
          130,
          75,
          110,
          50,
          10,
          15,
          80,
          50,
          90,
          135,
          135,
          25,
          75,
          25,
          45,
          30,
          135,
          80,
          165,
          55,
          110,
          10,
          15,
          20,
          160,
          80,
          120,
          120,
          145,
          25,
          180,
          60,
          145,
          160,
          175,
          20,
          90,
          15,
          20,
          60,
          50,
          140,
          130,
          55,
          35,
          45,
          85,
          70,
          40,
          80,
          175,
          145,
          65,
          85,
          50,
          120,
          110,
          90,
          55,
          150,
          70,
          60,
          25,
          75,
          145,
          75,
          65,
          50,
          140,
          90,
          45,
          40,
          130,
          85,
          120,
          100,
          75,
          40,
          55,
          90,
          65,
          35,
          145,
          155,
          90,
          150,
          70,
          125,
          100,
          50,
          80,
          15,
          25,
          130,
          160,
          85,
          75,
          105,
          155,
          40,
          45,
          20,
          95,
          65,
          110,
          175,
          100,
          80,
          150,
          150,
          140,
          70,
          60,
          130,
          165,
          25,
          160,
          15,
          50,
          125,
          95,
          155,
          55,
          140,
          90,
          15,
          85,
          40,
          75,
          10,
          155,
          125,
          15,
          175,
          165,
          135,
          80,
          50,
          15,
          25,
          90,
          180,
          60,
          60,
          120,
          150,
          100,
          80,
          170,
          130,
          55,
          65,
          95,
          80,
          15,
          130,
          25,
          175,
          60,
          30,
          95,
          155,
          80,
          85,
          145,
          170,
          50,
          150,
          100,
          85,
          120,
          120,
          125,
          10,
          165,
          115,
          165,
          80,
          20,
          15,
          115,
          20,
          130,
          160,
          80,
          50,
          125,
          160,
          50,
          160,
          175,
          150,
          130,
          120,
          45,
          160,
          55,
          75,
          110,
          105,
          145,
          115,
          120,
          100,
          15,
          50,
          80,
          90,
          60,
          15,
          65,
          165,
          20,
          135,
          60,
          140,
          85,
          40,
          115,
          130,
          105,
          50,
          15,
          85,
          105,
          95,
          140,
          160,
          120,
          80,
          40,
          140,
          40,
          130,
          160,
          85,
          30,
          170,
          45,
          50,
          170,
          95,
          100,
          50,
          55,
          15,
          60,
          160,
          40,
          15,
          150,
          75,
          55,
          30,
          75,
          115,
          170,
          100,
          130,
          30,
          130,
          175,
          60,
          140,
          165,
          115,
          25,
          65,
          145,
          60,
          175,
          155,
          170,
          5,
          40,
          75,
          10,
          30,
          120,
          95,
          85,
          95,
          45,
          115,
          50,
          140,
          110,
          75,
          180,
          60,
          90,
          120,
          95,
          75,
          160,
          60,
          100,
          155,
          50,
          105,
          65,
          165,
          160,
          65,
          40,
          60,
          85,
          150,
          30,
          25,
          50,
          15,
          5,
          40,
          40,
          80,
          125,
          120,
          135,
          125,
          45,
          175,
          45,
          55,
          45,
          65,
          95,
          105,
          115,
          5,
          75,
          105,
          105,
          40,
          170,
          175,
          20,
          75,
          85,
          105,
          165,
          65,
          145,
          120,
          145,
          180,
          80,
          55,
          155,
          140,
          70,
          115,
          20,
          30,
          175,
          150,
          50,
          120,
          160,
          115,
          65,
          150,
          65,
          100,
          30,
          95,
          95,
          65,
          85,
          175,
          65,
          140,
          150,
          55,
          105,
          25,
          50,
          100,
          10,
          105,
          10,
          165,
          125,
          105,
          100,
          90,
          155,
          50,
          90,
          140,
          50,
          175,
          100,
          70,
          45,
          80,
          65,
          165,
          65,
          145,
          20,
          125,
          15,
          95,
          110,
          45,
          135,
          75,
          175,
          35,
          125,
          45,
          165,
          115,
          35,
          5,
          10,
          40,
          170,
          10,
          165,
          40,
          50,
          85,
          180,
          80,
          115,
          65,
          165,
          150,
          85,
          10,
          35,
          60,
          130,
          160,
          60,
          110,
          125,
          null,
          null
         ],
         "y": [
          15,
          15,
          30,
          45,
          60,
          30,
          75,
          15,
          15,
          30,
          30,
          60,
          45,
          45,
          15,
          30,
          90,
          90,
          75,
          60,
          30,
          15,
          60,
          90,
          105,
          90,
          60,
          15,
          30,
          15,
          65,
          10,
          95,
          80,
          135,
          150,
          25,
          105,
          55,
          140,
          35,
          30,
          35,
          140,
          95,
          100,
          50,
          115,
          120,
          75,
          75,
          170,
          50,
          75,
          105,
          110,
          150,
          150,
          20,
          25,
          20,
          75,
          140,
          175,
          110,
          140,
          20,
          170,
          150,
          60,
          25,
          10,
          55,
          180,
          70,
          105,
          35,
          10,
          150,
          120,
          125,
          45,
          110,
          150,
          70,
          45,
          10,
          110,
          25,
          25,
          45,
          155,
          65,
          20,
          85,
          165,
          55,
          130,
          85,
          115,
          135,
          80,
          105,
          145,
          95,
          125,
          105,
          140,
          115,
          10,
          10,
          85,
          90,
          135,
          80,
          70,
          25,
          125,
          100,
          10,
          65,
          20,
          15,
          100,
          35,
          130,
          10,
          160,
          35,
          130,
          125,
          125,
          25,
          30,
          85,
          40,
          160,
          165,
          130,
          135,
          115,
          170,
          65,
          45,
          35,
          90,
          80,
          80,
          110,
          165,
          40,
          105,
          180,
          90,
          90,
          15,
          170,
          10,
          180,
          165,
          165,
          170,
          45,
          45,
          130,
          65,
          135,
          105,
          5,
          145,
          130,
          65,
          20,
          20,
          65,
          120,
          55,
          105,
          5,
          140,
          75,
          15,
          45,
          110,
          175,
          160,
          105,
          120,
          70,
          125,
          170,
          35,
          155,
          40,
          100,
          60,
          75,
          100,
          50,
          150,
          125,
          30,
          170,
          130,
          80,
          165,
          95,
          95,
          50,
          165,
          130,
          110,
          130,
          135,
          90,
          40,
          165,
          100,
          140,
          60,
          145,
          15,
          170,
          55,
          30,
          150,
          30,
          25,
          35,
          175,
          40,
          25,
          130,
          105,
          130,
          145,
          70,
          95,
          45,
          115,
          5,
          20,
          125,
          5,
          175,
          165,
          95,
          95,
          110,
          30,
          25,
          165,
          65,
          65,
          60,
          150,
          160,
          180,
          85,
          170,
          25,
          10,
          80,
          120,
          5,
          40,
          70,
          115,
          160,
          55,
          30,
          10,
          135,
          15,
          70,
          160,
          115,
          165,
          90,
          25,
          115,
          35,
          125,
          40,
          110,
          175,
          85,
          45,
          130,
          50,
          75,
          145,
          180,
          10,
          55,
          140,
          160,
          80,
          50,
          60,
          80,
          5,
          135,
          90,
          40,
          70,
          80,
          10,
          35,
          120,
          125,
          145,
          70,
          50,
          95,
          65,
          95,
          25,
          15,
          125,
          105,
          55,
          135,
          10,
          155,
          175,
          115,
          90,
          100,
          15,
          45,
          170,
          75,
          10,
          5,
          20,
          175,
          100,
          180,
          80,
          70,
          60,
          10,
          105,
          35,
          170,
          85,
          80,
          65,
          110,
          95,
          115,
          115,
          150,
          10,
          80,
          160,
          150,
          175,
          170,
          20,
          105,
          50,
          155,
          155,
          125,
          120,
          35,
          35,
          120,
          25,
          160,
          175,
          10,
          5,
          170,
          145,
          100,
          100,
          90,
          45,
          10,
          110,
          40,
          110,
          15,
          135,
          60,
          125,
          170,
          10,
          60,
          65,
          135,
          65,
          50,
          95,
          30,
          65,
          115,
          45,
          65,
          80,
          150,
          40,
          180,
          145,
          70,
          15,
          85,
          90,
          110,
          95,
          25,
          85,
          20,
          40,
          10,
          95,
          180,
          105,
          115,
          85,
          10,
          75,
          80,
          115,
          5,
          175,
          60,
          30,
          45,
          20,
          150,
          40,
          80,
          25,
          120,
          100,
          10,
          160,
          100,
          90,
          60,
          160,
          50,
          125,
          105,
          175,
          95,
          130,
          110,
          55,
          35,
          155,
          10,
          10,
          120,
          140,
          90,
          35,
          25,
          100,
          60,
          115,
          60,
          85,
          10,
          130,
          75,
          10,
          150,
          70,
          155,
          30,
          45,
          50,
          90,
          150,
          140,
          45,
          160,
          75,
          170,
          165,
          180,
          170,
          85,
          100,
          175,
          130,
          5,
          20,
          160,
          60,
          135,
          35,
          135,
          90,
          90,
          80,
          50,
          110,
          100,
          70,
          105,
          160,
          5,
          35,
          85,
          175,
          75,
          65,
          95,
          55,
          150,
          15,
          180,
          25,
          85,
          170,
          180,
          85,
          70,
          145,
          50,
          165,
          35,
          90,
          95,
          null,
          null
         ]
        },
        {
         "name": "Tempo-Entrega-Real vs Horário do Pedido",
         "type": "scatter",
         "x": [
          15,
          60,
          30,
          15,
          75,
          30,
          15,
          60,
          15,
          30,
          15,
          60,
          75,
          90,
          60,
          30,
          60,
          105,
          15,
          30,
          90,
          60,
          75,
          60,
          15,
          15,
          30,
          60,
          75,
          30,
          95,
          55,
          15,
          175,
          25,
          100,
          5,
          35,
          60,
          95,
          90,
          165,
          150,
          60,
          40,
          35,
          15,
          65,
          35,
          55,
          30,
          75,
          15,
          45,
          45,
          105,
          110,
          170,
          180,
          55,
          155,
          135,
          125,
          85,
          125,
          55,
          95,
          55,
          145,
          175,
          30,
          20,
          20,
          45,
          130,
          145,
          15,
          160,
          30,
          150,
          60,
          30,
          40,
          40,
          65,
          40,
          165,
          145,
          100,
          35,
          45,
          130,
          75,
          110,
          50,
          10,
          15,
          80,
          50,
          90,
          135,
          135,
          25,
          75,
          25,
          45,
          30,
          135,
          80,
          165,
          55,
          110,
          10,
          15,
          20,
          160,
          80,
          120,
          120,
          145,
          25,
          180,
          60,
          145,
          160,
          175,
          20,
          90,
          15,
          20,
          60,
          50,
          140,
          130,
          55,
          35,
          45,
          85,
          70,
          40,
          80,
          175,
          145,
          65,
          85,
          50,
          120,
          110,
          90,
          55,
          150,
          70,
          60,
          25,
          75,
          145,
          75,
          65,
          50,
          140,
          90,
          45,
          40,
          130,
          85,
          120,
          100,
          75,
          40,
          55,
          90,
          65,
          35,
          145,
          155,
          90,
          150,
          70,
          125,
          100,
          50,
          80,
          15,
          25,
          130,
          160,
          85,
          75,
          105,
          155,
          40,
          45,
          20,
          95,
          65,
          110,
          175,
          100,
          80,
          150,
          150,
          140,
          70,
          60,
          130,
          165,
          25,
          160,
          15,
          50,
          125,
          95,
          155,
          55,
          140,
          90,
          15,
          85,
          40,
          75,
          10,
          155,
          125,
          15,
          175,
          165,
          135,
          80,
          50,
          15,
          25,
          90,
          180,
          60,
          60,
          120,
          150,
          100,
          80,
          170,
          130,
          55,
          65,
          95,
          80,
          15,
          130,
          25,
          175,
          60,
          30,
          95,
          155,
          80,
          85,
          145,
          170,
          50,
          150,
          100,
          85,
          120,
          120,
          125,
          10,
          165,
          115,
          165,
          80,
          20,
          15,
          115,
          20,
          130,
          160,
          80,
          50,
          125,
          160,
          50,
          160,
          175,
          150,
          130,
          120,
          45,
          160,
          55,
          75,
          110,
          105,
          145,
          115,
          120,
          100,
          15,
          50,
          80,
          90,
          60,
          15,
          65,
          165,
          20,
          135,
          60,
          140,
          85,
          40,
          115,
          130,
          105,
          50,
          15,
          85,
          105,
          95,
          140,
          160,
          120,
          80,
          40,
          140,
          40,
          130,
          160,
          85,
          30,
          170,
          45,
          50,
          170,
          95,
          100,
          50,
          55,
          15,
          60,
          160,
          40,
          15,
          150,
          75,
          55,
          30,
          75,
          115,
          170,
          100,
          130,
          30,
          130,
          175,
          60,
          140,
          165,
          115,
          25,
          65,
          145,
          60,
          175,
          155,
          170,
          5,
          40,
          75,
          10,
          30,
          120,
          95,
          85,
          95,
          45,
          115,
          50,
          140,
          110,
          75,
          180,
          60,
          90,
          120,
          95,
          75,
          160,
          60,
          100,
          155,
          50,
          105,
          65,
          165,
          160,
          65,
          40,
          60,
          85,
          150,
          30,
          25,
          50,
          15,
          5,
          40,
          40,
          80,
          125,
          120,
          135,
          125,
          45,
          175,
          45,
          55,
          45,
          65,
          95,
          105,
          115,
          5,
          75,
          105,
          105,
          40,
          170,
          175,
          20,
          75,
          85,
          105,
          165,
          65,
          145,
          120,
          145,
          180,
          80,
          55,
          155,
          140,
          70,
          115,
          20,
          30,
          175,
          150,
          50,
          120,
          160,
          115,
          65,
          150,
          65,
          100,
          30,
          95,
          95,
          65,
          85,
          175,
          65,
          140,
          150,
          55,
          105,
          25,
          50,
          100,
          10,
          105,
          10,
          165,
          125,
          105,
          100,
          90,
          155,
          50,
          90,
          140,
          50,
          175,
          100,
          70,
          45,
          80,
          65,
          165,
          65,
          145,
          20,
          125,
          15,
          95,
          110,
          45,
          135,
          75,
          175,
          35,
          125,
          45,
          165,
          115,
          35,
          5,
          10,
          40,
          170,
          10,
          165,
          40,
          50,
          85,
          180,
          80,
          115,
          65,
          165,
          150,
          85,
          10,
          35,
          60,
          130,
          160,
          60,
          110,
          125,
          null,
          null
         ],
         "y": [
          14,
          13,
          14,
          13,
          13,
          11,
          11,
          12,
          13,
          14,
          13,
          13,
          12,
          14,
          14,
          14,
          11,
          14,
          11,
          12,
          13,
          13,
          14,
          11,
          11,
          11,
          13,
          12,
          13,
          12,
          11,
          12,
          13,
          14,
          11,
          14,
          14,
          14,
          14,
          13,
          11,
          12,
          12,
          14,
          14,
          13,
          13,
          14,
          13,
          14,
          13,
          12,
          12,
          13,
          12,
          13,
          12,
          12,
          13,
          14,
          12,
          14,
          14,
          14,
          12,
          13,
          11,
          11,
          11,
          11,
          12,
          13,
          12,
          11,
          11,
          12,
          14,
          13,
          12,
          12,
          12,
          13,
          13,
          14,
          13,
          14,
          12,
          12,
          14,
          13,
          14,
          11,
          11,
          13,
          12,
          12,
          14,
          11,
          13,
          14,
          12,
          12,
          14,
          12,
          13,
          13,
          11,
          12,
          13,
          14,
          13,
          14,
          12,
          13,
          12,
          11,
          14,
          11,
          13,
          12,
          12,
          12,
          11,
          13,
          12,
          14,
          13,
          12,
          14,
          13,
          13,
          12,
          11,
          12,
          13,
          11,
          11,
          13,
          11,
          13,
          12,
          12,
          13,
          14,
          11,
          13,
          13,
          11,
          11,
          11,
          14,
          13,
          12,
          11,
          11,
          11,
          14,
          14,
          13,
          11,
          11,
          13,
          13,
          14,
          14,
          12,
          13,
          11,
          13,
          13,
          12,
          11,
          11,
          11,
          12,
          14,
          13,
          11,
          11,
          12,
          13,
          11,
          13,
          14,
          13,
          12,
          14,
          13,
          13,
          11,
          11,
          13,
          12,
          11,
          13,
          14,
          12,
          13,
          11,
          11,
          13,
          13,
          14,
          11,
          21,
          21,
          21,
          20,
          20,
          19,
          19,
          18,
          18,
          21,
          20,
          19,
          19,
          18,
          19,
          18,
          19,
          22,
          20,
          20,
          19,
          18,
          22,
          22,
          20,
          22,
          18,
          20,
          21,
          21,
          20,
          20,
          21,
          22,
          22,
          18,
          19,
          19,
          19,
          22,
          18,
          20,
          19,
          21,
          19,
          20,
          20,
          18,
          21,
          22,
          20,
          22,
          18,
          18,
          22,
          19,
          18,
          18,
          18,
          19,
          19,
          20,
          18,
          18,
          18,
          21,
          18,
          22,
          22,
          18,
          18,
          20,
          20,
          20,
          18,
          19,
          22,
          20,
          22,
          19,
          20,
          20,
          20,
          19,
          18,
          19,
          21,
          18,
          19,
          21,
          18,
          18,
          22,
          19,
          19,
          20,
          20,
          22,
          20,
          18,
          18,
          18,
          18,
          22,
          21,
          20,
          20,
          22,
          22,
          19,
          19,
          21,
          18,
          21,
          20,
          22,
          21,
          22,
          18,
          22,
          22,
          20,
          20,
          20,
          22,
          18,
          22,
          22,
          21,
          22,
          20,
          22,
          22,
          19,
          19,
          21,
          18,
          20,
          20,
          21,
          18,
          21,
          22,
          20,
          22,
          21,
          21,
          19,
          20,
          18,
          21,
          21,
          18,
          20,
          22,
          18,
          22,
          20,
          21,
          22,
          22,
          21,
          21,
          21,
          22,
          18,
          20,
          21,
          20,
          18,
          22,
          20,
          20,
          19,
          22,
          18,
          18,
          18,
          21,
          20,
          19,
          19,
          18,
          22,
          22,
          18,
          18,
          22,
          19,
          21,
          22,
          18,
          19,
          20,
          21,
          22,
          14,
          6,
          20,
          3,
          18,
          8,
          22,
          6,
          21,
          20,
          21,
          5,
          15,
          2,
          7,
          5,
          22,
          7,
          10,
          14,
          17,
          20,
          23,
          11,
          0,
          2,
          1,
          2,
          15,
          5,
          18,
          6,
          9,
          7,
          9,
          22,
          10,
          0,
          17,
          18,
          10,
          2,
          5,
          19,
          9,
          22,
          19,
          8,
          10,
          18,
          18,
          1,
          21,
          9,
          18,
          8,
          3,
          10,
          10,
          22,
          0,
          2,
          9,
          21,
          4,
          20,
          1,
          20,
          17,
          3,
          11,
          5,
          5,
          21,
          20,
          16,
          23,
          3,
          9,
          0,
          15,
          7,
          8,
          19,
          3,
          17,
          21,
          18,
          8,
          10,
          2,
          19,
          13,
          6,
          15,
          16,
          0,
          11,
          12,
          8,
          20,
          14,
          17,
          8,
          8,
          23,
          11,
          22,
          13,
          3,
          21,
          12,
          16,
          1,
          7,
          3,
          13,
          3,
          6,
          20,
          23,
          18,
          19,
          9,
          15,
          21,
          7,
          5,
          14,
          1,
          null,
          null
         ]
        }
       ],
       "layout": {
        "annotations": [
         {
          "align": "center",
          "arrowsize": 1,
          "font": {
           "size": 14
          },
          "text": "Cov = nan",
          "x": 5,
          "y": 5
         }
        ],
        "legend": {
         "title": {
          "text": "Parâmetros"
         }
        },
        "template": {
         "data": {
          "bar": [
           {
            "error_x": {
             "color": "#2a3f5f"
            },
            "error_y": {
             "color": "#2a3f5f"
            },
            "marker": {
             "line": {
              "color": "#E5ECF6",
              "width": 0.5
             },
             "pattern": {
              "fillmode": "overlay",
              "size": 10,
              "solidity": 0.2
             }
            },
            "type": "bar"
           }
          ],
          "barpolar": [
           {
            "marker": {
             "line": {
              "color": "#E5ECF6",
              "width": 0.5
             },
             "pattern": {
              "fillmode": "overlay",
              "size": 10,
              "solidity": 0.2
             }
            },
            "type": "barpolar"
           }
          ],
          "carpet": [
           {
            "aaxis": {
             "endlinecolor": "#2a3f5f",
             "gridcolor": "white",
             "linecolor": "white",
             "minorgridcolor": "white",
             "startlinecolor": "#2a3f5f"
            },
            "baxis": {
             "endlinecolor": "#2a3f5f",
             "gridcolor": "white",
             "linecolor": "white",
             "minorgridcolor": "white",
             "startlinecolor": "#2a3f5f"
            },
            "type": "carpet"
           }
          ],
          "choropleth": [
           {
            "colorbar": {
             "outlinewidth": 0,
             "ticks": ""
            },
            "type": "choropleth"
           }
          ],
          "contour": [
           {
            "colorbar": {
             "outlinewidth": 0,
             "ticks": ""
            },
            "colorscale": [
             [
              0,
              "#0d0887"
             ],
             [
              0.1111111111111111,
              "#46039f"
             ],
             [
              0.2222222222222222,
              "#7201a8"
             ],
             [
              0.3333333333333333,
              "#9c179e"
             ],
             [
              0.4444444444444444,
              "#bd3786"
             ],
             [
              0.5555555555555556,
              "#d8576b"
             ],
             [
              0.6666666666666666,
              "#ed7953"
             ],
             [
              0.7777777777777778,
              "#fb9f3a"
             ],
             [
              0.8888888888888888,
              "#fdca26"
             ],
             [
              1,
              "#f0f921"
             ]
            ],
            "type": "contour"
           }
          ],
          "contourcarpet": [
           {
            "colorbar": {
             "outlinewidth": 0,
             "ticks": ""
            },
            "type": "contourcarpet"
           }
          ],
          "heatmap": [
           {
            "colorbar": {
             "outlinewidth": 0,
             "ticks": ""
            },
            "colorscale": [
             [
              0,
              "#0d0887"
             ],
             [
              0.1111111111111111,
              "#46039f"
             ],
             [
              0.2222222222222222,
              "#7201a8"
             ],
             [
              0.3333333333333333,
              "#9c179e"
             ],
             [
              0.4444444444444444,
              "#bd3786"
             ],
             [
              0.5555555555555556,
              "#d8576b"
             ],
             [
              0.6666666666666666,
              "#ed7953"
             ],
             [
              0.7777777777777778,
              "#fb9f3a"
             ],
             [
              0.8888888888888888,
              "#fdca26"
             ],
             [
              1,
              "#f0f921"
             ]
            ],
            "type": "heatmap"
           }
          ],
          "heatmapgl": [
           {
            "colorbar": {
             "outlinewidth": 0,
             "ticks": ""
            },
            "colorscale": [
             [
              0,
              "#0d0887"
             ],
             [
              0.1111111111111111,
              "#46039f"
             ],
             [
              0.2222222222222222,
              "#7201a8"
             ],
             [
              0.3333333333333333,
              "#9c179e"
             ],
             [
              0.4444444444444444,
              "#bd3786"
             ],
             [
              0.5555555555555556,
              "#d8576b"
             ],
             [
              0.6666666666666666,
              "#ed7953"
             ],
             [
              0.7777777777777778,
              "#fb9f3a"
             ],
             [
              0.8888888888888888,
              "#fdca26"
             ],
             [
              1,
              "#f0f921"
             ]
            ],
            "type": "heatmapgl"
           }
          ],
          "histogram": [
           {
            "marker": {
             "pattern": {
              "fillmode": "overlay",
              "size": 10,
              "solidity": 0.2
             }
            },
            "type": "histogram"
           }
          ],
          "histogram2d": [
           {
            "colorbar": {
             "outlinewidth": 0,
             "ticks": ""
            },
            "colorscale": [
             [
              0,
              "#0d0887"
             ],
             [
              0.1111111111111111,
              "#46039f"
             ],
             [
              0.2222222222222222,
              "#7201a8"
             ],
             [
              0.3333333333333333,
              "#9c179e"
             ],
             [
              0.4444444444444444,
              "#bd3786"
             ],
             [
              0.5555555555555556,
              "#d8576b"
             ],
             [
              0.6666666666666666,
              "#ed7953"
             ],
             [
              0.7777777777777778,
              "#fb9f3a"
             ],
             [
              0.8888888888888888,
              "#fdca26"
             ],
             [
              1,
              "#f0f921"
             ]
            ],
            "type": "histogram2d"
           }
          ],
          "histogram2dcontour": [
           {
            "colorbar": {
             "outlinewidth": 0,
             "ticks": ""
            },
            "colorscale": [
             [
              0,
              "#0d0887"
             ],
             [
              0.1111111111111111,
              "#46039f"
             ],
             [
              0.2222222222222222,
              "#7201a8"
             ],
             [
              0.3333333333333333,
              "#9c179e"
             ],
             [
              0.4444444444444444,
              "#bd3786"
             ],
             [
              0.5555555555555556,
              "#d8576b"
             ],
             [
              0.6666666666666666,
              "#ed7953"
             ],
             [
              0.7777777777777778,
              "#fb9f3a"
             ],
             [
              0.8888888888888888,
              "#fdca26"
             ],
             [
              1,
              "#f0f921"
             ]
            ],
            "type": "histogram2dcontour"
           }
          ],
          "mesh3d": [
           {
            "colorbar": {
             "outlinewidth": 0,
             "ticks": ""
            },
            "type": "mesh3d"
           }
          ],
          "parcoords": [
           {
            "line": {
             "colorbar": {
              "outlinewidth": 0,
              "ticks": ""
             }
            },
            "type": "parcoords"
           }
          ],
          "pie": [
           {
            "automargin": true,
            "type": "pie"
           }
          ],
          "scatter": [
           {
            "fillpattern": {
             "fillmode": "overlay",
             "size": 10,
             "solidity": 0.2
            },
            "type": "scatter"
           }
          ],
          "scatter3d": [
           {
            "line": {
             "colorbar": {
              "outlinewidth": 0,
              "ticks": ""
             }
            },
            "marker": {
             "colorbar": {
              "outlinewidth": 0,
              "ticks": ""
             }
            },
            "type": "scatter3d"
           }
          ],
          "scattercarpet": [
           {
            "marker": {
             "colorbar": {
              "outlinewidth": 0,
              "ticks": ""
             }
            },
            "type": "scattercarpet"
           }
          ],
          "scattergeo": [
           {
            "marker": {
             "colorbar": {
              "outlinewidth": 0,
              "ticks": ""
             }
            },
            "type": "scattergeo"
           }
          ],
          "scattergl": [
           {
            "marker": {
             "colorbar": {
              "outlinewidth": 0,
              "ticks": ""
             }
            },
            "type": "scattergl"
           }
          ],
          "scattermapbox": [
           {
            "marker": {
             "colorbar": {
              "outlinewidth": 0,
              "ticks": ""
             }
            },
            "type": "scattermapbox"
           }
          ],
          "scatterpolar": [
           {
            "marker": {
             "colorbar": {
              "outlinewidth": 0,
              "ticks": ""
             }
            },
            "type": "scatterpolar"
           }
          ],
          "scatterpolargl": [
           {
            "marker": {
             "colorbar": {
              "outlinewidth": 0,
              "ticks": ""
             }
            },
            "type": "scatterpolargl"
           }
          ],
          "scatterternary": [
           {
            "marker": {
             "colorbar": {
              "outlinewidth": 0,
              "ticks": ""
             }
            },
            "type": "scatterternary"
           }
          ],
          "surface": [
           {
            "colorbar": {
             "outlinewidth": 0,
             "ticks": ""
            },
            "colorscale": [
             [
              0,
              "#0d0887"
             ],
             [
              0.1111111111111111,
              "#46039f"
             ],
             [
              0.2222222222222222,
              "#7201a8"
             ],
             [
              0.3333333333333333,
              "#9c179e"
             ],
             [
              0.4444444444444444,
              "#bd3786"
             ],
             [
              0.5555555555555556,
              "#d8576b"
             ],
             [
              0.6666666666666666,
              "#ed7953"
             ],
             [
              0.7777777777777778,
              "#fb9f3a"
             ],
             [
              0.8888888888888888,
              "#fdca26"
             ],
             [
              1,
              "#f0f921"
             ]
            ],
            "type": "surface"
           }
          ],
          "table": [
           {
            "cells": {
             "fill": {
              "color": "#EBF0F8"
             },
             "line": {
              "color": "white"
             }
            },
            "header": {
             "fill": {
              "color": "#C8D4E3"
             },
             "line": {
              "color": "white"
             }
            },
            "type": "table"
           }
          ]
         },
         "layout": {
          "annotationdefaults": {
           "arrowcolor": "#2a3f5f",
           "arrowhead": 0,
           "arrowwidth": 1
          },
          "autotypenumbers": "strict",
          "coloraxis": {
           "colorbar": {
            "outlinewidth": 0,
            "ticks": ""
           }
          },
          "colorscale": {
           "diverging": [
            [
             0,
             "#8e0152"
            ],
            [
             0.1,
             "#c51b7d"
            ],
            [
             0.2,
             "#de77ae"
            ],
            [
             0.3,
             "#f1b6da"
            ],
            [
             0.4,
             "#fde0ef"
            ],
            [
             0.5,
             "#f7f7f7"
            ],
            [
             0.6,
             "#e6f5d0"
            ],
            [
             0.7,
             "#b8e186"
            ],
            [
             0.8,
             "#7fbc41"
            ],
            [
             0.9,
             "#4d9221"
            ],
            [
             1,
             "#276419"
            ]
           ],
           "sequential": [
            [
             0,
             "#0d0887"
            ],
            [
             0.1111111111111111,
             "#46039f"
            ],
            [
             0.2222222222222222,
             "#7201a8"
            ],
            [
             0.3333333333333333,
             "#9c179e"
            ],
            [
             0.4444444444444444,
             "#bd3786"
            ],
            [
             0.5555555555555556,
             "#d8576b"
            ],
            [
             0.6666666666666666,
             "#ed7953"
            ],
            [
             0.7777777777777778,
             "#fb9f3a"
            ],
            [
             0.8888888888888888,
             "#fdca26"
            ],
            [
             1,
             "#f0f921"
            ]
           ],
           "sequentialminus": [
            [
             0,
             "#0d0887"
            ],
            [
             0.1111111111111111,
             "#46039f"
            ],
            [
             0.2222222222222222,
             "#7201a8"
            ],
            [
             0.3333333333333333,
             "#9c179e"
            ],
            [
             0.4444444444444444,
             "#bd3786"
            ],
            [
             0.5555555555555556,
             "#d8576b"
            ],
            [
             0.6666666666666666,
             "#ed7953"
            ],
            [
             0.7777777777777778,
             "#fb9f3a"
            ],
            [
             0.8888888888888888,
             "#fdca26"
            ],
            [
             1,
             "#f0f921"
            ]
           ]
          },
          "colorway": [
           "#636efa",
           "#EF553B",
           "#00cc96",
           "#ab63fa",
           "#FFA15A",
           "#19d3f3",
           "#FF6692",
           "#B6E880",
           "#FF97FF",
           "#FECB52"
          ],
          "font": {
           "color": "#2a3f5f"
          },
          "geo": {
           "bgcolor": "white",
           "lakecolor": "white",
           "landcolor": "#E5ECF6",
           "showlakes": true,
           "showland": true,
           "subunitcolor": "white"
          },
          "hoverlabel": {
           "align": "left"
          },
          "hovermode": "closest",
          "mapbox": {
           "style": "light"
          },
          "paper_bgcolor": "white",
          "plot_bgcolor": "#E5ECF6",
          "polar": {
           "angularaxis": {
            "gridcolor": "white",
            "linecolor": "white",
            "ticks": ""
           },
           "bgcolor": "#E5ECF6",
           "radialaxis": {
            "gridcolor": "white",
            "linecolor": "white",
            "ticks": ""
           }
          },
          "scene": {
           "xaxis": {
            "backgroundcolor": "#E5ECF6",
            "gridcolor": "white",
            "gridwidth": 2,
            "linecolor": "white",
            "showbackground": true,
            "ticks": "",
            "zerolinecolor": "white"
           },
           "yaxis": {
            "backgroundcolor": "#E5ECF6",
            "gridcolor": "white",
            "gridwidth": 2,
            "linecolor": "white",
            "showbackground": true,
            "ticks": "",
            "zerolinecolor": "white"
           },
           "zaxis": {
            "backgroundcolor": "#E5ECF6",
            "gridcolor": "white",
            "gridwidth": 2,
            "linecolor": "white",
            "showbackground": true,
            "ticks": "",
            "zerolinecolor": "white"
           }
          },
          "shapedefaults": {
           "line": {
            "color": "#2a3f5f"
           }
          },
          "ternary": {
           "aaxis": {
            "gridcolor": "white",
            "linecolor": "white",
            "ticks": ""
           },
           "baxis": {
            "gridcolor": "white",
            "linecolor": "white",
            "ticks": ""
           },
           "bgcolor": "#E5ECF6",
           "caxis": {
            "gridcolor": "white",
            "linecolor": "white",
            "ticks": ""
           }
          },
          "title": {
           "x": 0.05
          },
          "xaxis": {
           "automargin": true,
           "gridcolor": "white",
           "linecolor": "white",
           "ticks": "",
           "title": {
            "standoff": 15
           },
           "zerolinecolor": "white",
           "zerolinewidth": 2
          },
          "yaxis": {
           "automargin": true,
           "gridcolor": "white",
           "linecolor": "white",
           "ticks": "",
           "title": {
            "standoff": 15
           },
           "zerolinecolor": "white",
           "zerolinewidth": 2
          }
         }
        }
       }
      }
     },
     "metadata": {},
     "output_type": "display_data"
    }
   ],
   "source": [
    "import numpy as np\n",
    "import plotly.graph_objects as go\n",
    "import pandas as pd\n",
    "\n",
    "dataFrame = pd.read_csv('https://gist.githubusercontent.com/altinodantas/2d57753e48eeacd20a6c1ff6ebe94f6d/raw/e6868648a75a340a651b5494e0f210f1010810aa/dados-delivery.csv')\n",
    "\n",
    "#Selecionando as colunas do dataFrame\n",
    "tempo_real = dataFrame['tempo-entrega-real']\n",
    "tempo_entrega = dataFrame['tempo-entrega']\n",
    "horario_pedido = dataFrame['hora-do-pedido']\n",
    "\n",
    "#calcular a Convergência\n",
    "conv_tempo_real_tempo_entrega = np.cov(tempo_real,tempo_entrega)\n",
    "conv_tempo_real_horario_pedido = np.cov(tempo_real,horario_pedido)\n",
    "\n",
    "#criar um Gráfico na biblioteca Plotly\n",
    "fig = go.Figure()\n",
    "\n",
    "#Adicionando um trace de dispersão para o tempo-entrega-real e o tempo-entrega\n",
    "fig.add_trace(go.Scatter(x=tempo_real, y=tempo_entrega, name=\"Tempo-Entrega-Real vs Tempo-Entrega\"))\n",
    "\n",
    "#Adicionando um trace de dispersão para o tempo-entrega-real e o horário do pedido\n",
    "fig.add_trace(go.Scatter(x=tempo_real, y=horario_pedido, name=\"Tempo-Entrega-Real vs Horário do Pedido\"))\n",
    "\n",
    "#Adicionando uma legenda ao gráfico\n",
    "fig.update_layout(legend=dict(title=\"Parâmetros\"))\n",
    "\n",
    "#Adicionando uma linha pontilhada ao gráfico para indicar a convergência\n",
    "fig.add_annotation(\n",
    "    x=tempo_real.min(),\n",
    "    y=tempo_entrega.min(),\n",
    "    text=\"Cov = {:.2f}\".format(conv_tempo_real_tempo_entrega[0,1]),\n",
    "    font_size=14,\n",
    "    align=\"center\",\n",
    "    arrowsize=1,\n",
    ")\n",
    "\n",
    "fig.show()"
   ]
  },
  {
   "cell_type": "code",
   "execution_count": 12,
   "metadata": {},
   "outputs": [
    {
     "data": {
      "application/vnd.plotly.v1+json": {
       "config": {
        "plotlyServerURL": "https://plot.ly"
       },
       "data": [
        {
         "type": "bar",
         "x": [
          "Tempo-Entrega-Real",
          "Tempo-Entrega",
          "hora-do-pedido"
         ],
         "y": [
          87.37735849056604,
          87.11320754716981,
          15.049056603773584
         ]
        }
       ],
       "layout": {
        "template": {
         "data": {
          "bar": [
           {
            "error_x": {
             "color": "#2a3f5f"
            },
            "error_y": {
             "color": "#2a3f5f"
            },
            "marker": {
             "line": {
              "color": "#E5ECF6",
              "width": 0.5
             },
             "pattern": {
              "fillmode": "overlay",
              "size": 10,
              "solidity": 0.2
             }
            },
            "type": "bar"
           }
          ],
          "barpolar": [
           {
            "marker": {
             "line": {
              "color": "#E5ECF6",
              "width": 0.5
             },
             "pattern": {
              "fillmode": "overlay",
              "size": 10,
              "solidity": 0.2
             }
            },
            "type": "barpolar"
           }
          ],
          "carpet": [
           {
            "aaxis": {
             "endlinecolor": "#2a3f5f",
             "gridcolor": "white",
             "linecolor": "white",
             "minorgridcolor": "white",
             "startlinecolor": "#2a3f5f"
            },
            "baxis": {
             "endlinecolor": "#2a3f5f",
             "gridcolor": "white",
             "linecolor": "white",
             "minorgridcolor": "white",
             "startlinecolor": "#2a3f5f"
            },
            "type": "carpet"
           }
          ],
          "choropleth": [
           {
            "colorbar": {
             "outlinewidth": 0,
             "ticks": ""
            },
            "type": "choropleth"
           }
          ],
          "contour": [
           {
            "colorbar": {
             "outlinewidth": 0,
             "ticks": ""
            },
            "colorscale": [
             [
              0,
              "#0d0887"
             ],
             [
              0.1111111111111111,
              "#46039f"
             ],
             [
              0.2222222222222222,
              "#7201a8"
             ],
             [
              0.3333333333333333,
              "#9c179e"
             ],
             [
              0.4444444444444444,
              "#bd3786"
             ],
             [
              0.5555555555555556,
              "#d8576b"
             ],
             [
              0.6666666666666666,
              "#ed7953"
             ],
             [
              0.7777777777777778,
              "#fb9f3a"
             ],
             [
              0.8888888888888888,
              "#fdca26"
             ],
             [
              1,
              "#f0f921"
             ]
            ],
            "type": "contour"
           }
          ],
          "contourcarpet": [
           {
            "colorbar": {
             "outlinewidth": 0,
             "ticks": ""
            },
            "type": "contourcarpet"
           }
          ],
          "heatmap": [
           {
            "colorbar": {
             "outlinewidth": 0,
             "ticks": ""
            },
            "colorscale": [
             [
              0,
              "#0d0887"
             ],
             [
              0.1111111111111111,
              "#46039f"
             ],
             [
              0.2222222222222222,
              "#7201a8"
             ],
             [
              0.3333333333333333,
              "#9c179e"
             ],
             [
              0.4444444444444444,
              "#bd3786"
             ],
             [
              0.5555555555555556,
              "#d8576b"
             ],
             [
              0.6666666666666666,
              "#ed7953"
             ],
             [
              0.7777777777777778,
              "#fb9f3a"
             ],
             [
              0.8888888888888888,
              "#fdca26"
             ],
             [
              1,
              "#f0f921"
             ]
            ],
            "type": "heatmap"
           }
          ],
          "heatmapgl": [
           {
            "colorbar": {
             "outlinewidth": 0,
             "ticks": ""
            },
            "colorscale": [
             [
              0,
              "#0d0887"
             ],
             [
              0.1111111111111111,
              "#46039f"
             ],
             [
              0.2222222222222222,
              "#7201a8"
             ],
             [
              0.3333333333333333,
              "#9c179e"
             ],
             [
              0.4444444444444444,
              "#bd3786"
             ],
             [
              0.5555555555555556,
              "#d8576b"
             ],
             [
              0.6666666666666666,
              "#ed7953"
             ],
             [
              0.7777777777777778,
              "#fb9f3a"
             ],
             [
              0.8888888888888888,
              "#fdca26"
             ],
             [
              1,
              "#f0f921"
             ]
            ],
            "type": "heatmapgl"
           }
          ],
          "histogram": [
           {
            "marker": {
             "pattern": {
              "fillmode": "overlay",
              "size": 10,
              "solidity": 0.2
             }
            },
            "type": "histogram"
           }
          ],
          "histogram2d": [
           {
            "colorbar": {
             "outlinewidth": 0,
             "ticks": ""
            },
            "colorscale": [
             [
              0,
              "#0d0887"
             ],
             [
              0.1111111111111111,
              "#46039f"
             ],
             [
              0.2222222222222222,
              "#7201a8"
             ],
             [
              0.3333333333333333,
              "#9c179e"
             ],
             [
              0.4444444444444444,
              "#bd3786"
             ],
             [
              0.5555555555555556,
              "#d8576b"
             ],
             [
              0.6666666666666666,
              "#ed7953"
             ],
             [
              0.7777777777777778,
              "#fb9f3a"
             ],
             [
              0.8888888888888888,
              "#fdca26"
             ],
             [
              1,
              "#f0f921"
             ]
            ],
            "type": "histogram2d"
           }
          ],
          "histogram2dcontour": [
           {
            "colorbar": {
             "outlinewidth": 0,
             "ticks": ""
            },
            "colorscale": [
             [
              0,
              "#0d0887"
             ],
             [
              0.1111111111111111,
              "#46039f"
             ],
             [
              0.2222222222222222,
              "#7201a8"
             ],
             [
              0.3333333333333333,
              "#9c179e"
             ],
             [
              0.4444444444444444,
              "#bd3786"
             ],
             [
              0.5555555555555556,
              "#d8576b"
             ],
             [
              0.6666666666666666,
              "#ed7953"
             ],
             [
              0.7777777777777778,
              "#fb9f3a"
             ],
             [
              0.8888888888888888,
              "#fdca26"
             ],
             [
              1,
              "#f0f921"
             ]
            ],
            "type": "histogram2dcontour"
           }
          ],
          "mesh3d": [
           {
            "colorbar": {
             "outlinewidth": 0,
             "ticks": ""
            },
            "type": "mesh3d"
           }
          ],
          "parcoords": [
           {
            "line": {
             "colorbar": {
              "outlinewidth": 0,
              "ticks": ""
             }
            },
            "type": "parcoords"
           }
          ],
          "pie": [
           {
            "automargin": true,
            "type": "pie"
           }
          ],
          "scatter": [
           {
            "fillpattern": {
             "fillmode": "overlay",
             "size": 10,
             "solidity": 0.2
            },
            "type": "scatter"
           }
          ],
          "scatter3d": [
           {
            "line": {
             "colorbar": {
              "outlinewidth": 0,
              "ticks": ""
             }
            },
            "marker": {
             "colorbar": {
              "outlinewidth": 0,
              "ticks": ""
             }
            },
            "type": "scatter3d"
           }
          ],
          "scattercarpet": [
           {
            "marker": {
             "colorbar": {
              "outlinewidth": 0,
              "ticks": ""
             }
            },
            "type": "scattercarpet"
           }
          ],
          "scattergeo": [
           {
            "marker": {
             "colorbar": {
              "outlinewidth": 0,
              "ticks": ""
             }
            },
            "type": "scattergeo"
           }
          ],
          "scattergl": [
           {
            "marker": {
             "colorbar": {
              "outlinewidth": 0,
              "ticks": ""
             }
            },
            "type": "scattergl"
           }
          ],
          "scattermapbox": [
           {
            "marker": {
             "colorbar": {
              "outlinewidth": 0,
              "ticks": ""
             }
            },
            "type": "scattermapbox"
           }
          ],
          "scatterpolar": [
           {
            "marker": {
             "colorbar": {
              "outlinewidth": 0,
              "ticks": ""
             }
            },
            "type": "scatterpolar"
           }
          ],
          "scatterpolargl": [
           {
            "marker": {
             "colorbar": {
              "outlinewidth": 0,
              "ticks": ""
             }
            },
            "type": "scatterpolargl"
           }
          ],
          "scatterternary": [
           {
            "marker": {
             "colorbar": {
              "outlinewidth": 0,
              "ticks": ""
             }
            },
            "type": "scatterternary"
           }
          ],
          "surface": [
           {
            "colorbar": {
             "outlinewidth": 0,
             "ticks": ""
            },
            "colorscale": [
             [
              0,
              "#0d0887"
             ],
             [
              0.1111111111111111,
              "#46039f"
             ],
             [
              0.2222222222222222,
              "#7201a8"
             ],
             [
              0.3333333333333333,
              "#9c179e"
             ],
             [
              0.4444444444444444,
              "#bd3786"
             ],
             [
              0.5555555555555556,
              "#d8576b"
             ],
             [
              0.6666666666666666,
              "#ed7953"
             ],
             [
              0.7777777777777778,
              "#fb9f3a"
             ],
             [
              0.8888888888888888,
              "#fdca26"
             ],
             [
              1,
              "#f0f921"
             ]
            ],
            "type": "surface"
           }
          ],
          "table": [
           {
            "cells": {
             "fill": {
              "color": "#EBF0F8"
             },
             "line": {
              "color": "white"
             }
            },
            "header": {
             "fill": {
              "color": "#C8D4E3"
             },
             "line": {
              "color": "white"
             }
            },
            "type": "table"
           }
          ]
         },
         "layout": {
          "annotationdefaults": {
           "arrowcolor": "#2a3f5f",
           "arrowhead": 0,
           "arrowwidth": 1
          },
          "autotypenumbers": "strict",
          "coloraxis": {
           "colorbar": {
            "outlinewidth": 0,
            "ticks": ""
           }
          },
          "colorscale": {
           "diverging": [
            [
             0,
             "#8e0152"
            ],
            [
             0.1,
             "#c51b7d"
            ],
            [
             0.2,
             "#de77ae"
            ],
            [
             0.3,
             "#f1b6da"
            ],
            [
             0.4,
             "#fde0ef"
            ],
            [
             0.5,
             "#f7f7f7"
            ],
            [
             0.6,
             "#e6f5d0"
            ],
            [
             0.7,
             "#b8e186"
            ],
            [
             0.8,
             "#7fbc41"
            ],
            [
             0.9,
             "#4d9221"
            ],
            [
             1,
             "#276419"
            ]
           ],
           "sequential": [
            [
             0,
             "#0d0887"
            ],
            [
             0.1111111111111111,
             "#46039f"
            ],
            [
             0.2222222222222222,
             "#7201a8"
            ],
            [
             0.3333333333333333,
             "#9c179e"
            ],
            [
             0.4444444444444444,
             "#bd3786"
            ],
            [
             0.5555555555555556,
             "#d8576b"
            ],
            [
             0.6666666666666666,
             "#ed7953"
            ],
            [
             0.7777777777777778,
             "#fb9f3a"
            ],
            [
             0.8888888888888888,
             "#fdca26"
            ],
            [
             1,
             "#f0f921"
            ]
           ],
           "sequentialminus": [
            [
             0,
             "#0d0887"
            ],
            [
             0.1111111111111111,
             "#46039f"
            ],
            [
             0.2222222222222222,
             "#7201a8"
            ],
            [
             0.3333333333333333,
             "#9c179e"
            ],
            [
             0.4444444444444444,
             "#bd3786"
            ],
            [
             0.5555555555555556,
             "#d8576b"
            ],
            [
             0.6666666666666666,
             "#ed7953"
            ],
            [
             0.7777777777777778,
             "#fb9f3a"
            ],
            [
             0.8888888888888888,
             "#fdca26"
            ],
            [
             1,
             "#f0f921"
            ]
           ]
          },
          "colorway": [
           "#636efa",
           "#EF553B",
           "#00cc96",
           "#ab63fa",
           "#FFA15A",
           "#19d3f3",
           "#FF6692",
           "#B6E880",
           "#FF97FF",
           "#FECB52"
          ],
          "font": {
           "color": "#2a3f5f"
          },
          "geo": {
           "bgcolor": "white",
           "lakecolor": "white",
           "landcolor": "#E5ECF6",
           "showlakes": true,
           "showland": true,
           "subunitcolor": "white"
          },
          "hoverlabel": {
           "align": "left"
          },
          "hovermode": "closest",
          "mapbox": {
           "style": "light"
          },
          "paper_bgcolor": "white",
          "plot_bgcolor": "#E5ECF6",
          "polar": {
           "angularaxis": {
            "gridcolor": "white",
            "linecolor": "white",
            "ticks": ""
           },
           "bgcolor": "#E5ECF6",
           "radialaxis": {
            "gridcolor": "white",
            "linecolor": "white",
            "ticks": ""
           }
          },
          "scene": {
           "xaxis": {
            "backgroundcolor": "#E5ECF6",
            "gridcolor": "white",
            "gridwidth": 2,
            "linecolor": "white",
            "showbackground": true,
            "ticks": "",
            "zerolinecolor": "white"
           },
           "yaxis": {
            "backgroundcolor": "#E5ECF6",
            "gridcolor": "white",
            "gridwidth": 2,
            "linecolor": "white",
            "showbackground": true,
            "ticks": "",
            "zerolinecolor": "white"
           },
           "zaxis": {
            "backgroundcolor": "#E5ECF6",
            "gridcolor": "white",
            "gridwidth": 2,
            "linecolor": "white",
            "showbackground": true,
            "ticks": "",
            "zerolinecolor": "white"
           }
          },
          "shapedefaults": {
           "line": {
            "color": "#2a3f5f"
           }
          },
          "ternary": {
           "aaxis": {
            "gridcolor": "white",
            "linecolor": "white",
            "ticks": ""
           },
           "baxis": {
            "gridcolor": "white",
            "linecolor": "white",
            "ticks": ""
           },
           "bgcolor": "#E5ECF6",
           "caxis": {
            "gridcolor": "white",
            "linecolor": "white",
            "ticks": ""
           }
          },
          "title": {
           "x": 0.05
          },
          "xaxis": {
           "automargin": true,
           "gridcolor": "white",
           "linecolor": "white",
           "ticks": "",
           "title": {
            "standoff": 15
           },
           "zerolinecolor": "white",
           "zerolinewidth": 2
          },
          "yaxis": {
           "automargin": true,
           "gridcolor": "white",
           "linecolor": "white",
           "ticks": "",
           "title": {
            "standoff": 15
           },
           "zerolinecolor": "white",
           "zerolinewidth": 2
          }
         }
        },
        "title": {
         "text": "Média dos Parâmetros"
        }
       }
      }
     },
     "metadata": {},
     "output_type": "display_data"
    }
   ],
   "source": [
    "import numpy as np\n",
    "import plotly.graph_objects as go\n",
    "import pandas as pd\n",
    "\n",
    "dataFrame = pd.read_csv('https://gist.githubusercontent.com/altinodantas/2d57753e48eeacd20a6c1ff6ebe94f6d/raw/e6868648a75a340a651b5494e0f210f1010810aa/dados-delivery.csv')\n",
    "\n",
    "#Selecionando as colunas do dataFrame\n",
    "tempo_real = dataFrame['tempo-entrega-real']\n",
    "tempo_entrega = dataFrame['tempo-entrega']\n",
    "horario_pedido = dataFrame['hora-do-pedido']\n",
    "\n",
    "#calcular a média\n",
    "media_tempo_real = tempo_real.mean()\n",
    "media_tempo_entrega = tempo_entrega.mean()\n",
    "media_horario_pedido = horario_pedido.mean()\n",
    "\n",
    "#criar um gráfico de barras\n",
    "fig = go.Figure()\n",
    "fig.add_trace(go.Bar(x=[\"Tempo-Entrega-Real\", \"Tempo-Entrega\", \"hora-do-pedido\"], y=[media_tempo_real, media_tempo_entrega, media_horario_pedido]))\n",
    "\n",
    "#adicionar um título ao gráfico\n",
    "fig.update_layout(title=\"Média dos Parâmetros\")\n",
    "\n",
    "#exibir o gráfico\n",
    "fig.show()"
   ]
  },
  {
   "cell_type": "code",
   "execution_count": 13,
   "metadata": {},
   "outputs": [
    {
     "data": {
      "text/plain": [
       "87.37735849056604"
      ]
     },
     "execution_count": 13,
     "metadata": {},
     "output_type": "execute_result"
    }
   ],
   "source": [
    "media_tempo_real2 = dataFrame[\"tempo-entrega-real\"].mean()\n",
    "media_tempo_entrega2 = dataFrame[\"tempo-entrega\"].mean()\n",
    "media_tempo_real2"
   ]
  },
  {
   "cell_type": "code",
   "execution_count": 14,
   "metadata": {},
   "outputs": [
    {
     "data": {
      "application/vnd.plotly.v1+json": {
       "config": {
        "plotlyServerURL": "https://plot.ly"
       },
       "data": [
        {
         "type": "bar",
         "x": [
          "Tempo-Entrega-Real",
          "Tempo-Entrega",
          "hora-do-pedido"
         ],
         "y": [
          87.37735849056604,
          87.11320754716981,
          15.049056603773584
         ]
        }
       ],
       "layout": {
        "template": {
         "data": {
          "bar": [
           {
            "error_x": {
             "color": "#2a3f5f"
            },
            "error_y": {
             "color": "#2a3f5f"
            },
            "marker": {
             "line": {
              "color": "#E5ECF6",
              "width": 0.5
             },
             "pattern": {
              "fillmode": "overlay",
              "size": 10,
              "solidity": 0.2
             }
            },
            "type": "bar"
           }
          ],
          "barpolar": [
           {
            "marker": {
             "line": {
              "color": "#E5ECF6",
              "width": 0.5
             },
             "pattern": {
              "fillmode": "overlay",
              "size": 10,
              "solidity": 0.2
             }
            },
            "type": "barpolar"
           }
          ],
          "carpet": [
           {
            "aaxis": {
             "endlinecolor": "#2a3f5f",
             "gridcolor": "white",
             "linecolor": "white",
             "minorgridcolor": "white",
             "startlinecolor": "#2a3f5f"
            },
            "baxis": {
             "endlinecolor": "#2a3f5f",
             "gridcolor": "white",
             "linecolor": "white",
             "minorgridcolor": "white",
             "startlinecolor": "#2a3f5f"
            },
            "type": "carpet"
           }
          ],
          "choropleth": [
           {
            "colorbar": {
             "outlinewidth": 0,
             "ticks": ""
            },
            "type": "choropleth"
           }
          ],
          "contour": [
           {
            "colorbar": {
             "outlinewidth": 0,
             "ticks": ""
            },
            "colorscale": [
             [
              0,
              "#0d0887"
             ],
             [
              0.1111111111111111,
              "#46039f"
             ],
             [
              0.2222222222222222,
              "#7201a8"
             ],
             [
              0.3333333333333333,
              "#9c179e"
             ],
             [
              0.4444444444444444,
              "#bd3786"
             ],
             [
              0.5555555555555556,
              "#d8576b"
             ],
             [
              0.6666666666666666,
              "#ed7953"
             ],
             [
              0.7777777777777778,
              "#fb9f3a"
             ],
             [
              0.8888888888888888,
              "#fdca26"
             ],
             [
              1,
              "#f0f921"
             ]
            ],
            "type": "contour"
           }
          ],
          "contourcarpet": [
           {
            "colorbar": {
             "outlinewidth": 0,
             "ticks": ""
            },
            "type": "contourcarpet"
           }
          ],
          "heatmap": [
           {
            "colorbar": {
             "outlinewidth": 0,
             "ticks": ""
            },
            "colorscale": [
             [
              0,
              "#0d0887"
             ],
             [
              0.1111111111111111,
              "#46039f"
             ],
             [
              0.2222222222222222,
              "#7201a8"
             ],
             [
              0.3333333333333333,
              "#9c179e"
             ],
             [
              0.4444444444444444,
              "#bd3786"
             ],
             [
              0.5555555555555556,
              "#d8576b"
             ],
             [
              0.6666666666666666,
              "#ed7953"
             ],
             [
              0.7777777777777778,
              "#fb9f3a"
             ],
             [
              0.8888888888888888,
              "#fdca26"
             ],
             [
              1,
              "#f0f921"
             ]
            ],
            "type": "heatmap"
           }
          ],
          "heatmapgl": [
           {
            "colorbar": {
             "outlinewidth": 0,
             "ticks": ""
            },
            "colorscale": [
             [
              0,
              "#0d0887"
             ],
             [
              0.1111111111111111,
              "#46039f"
             ],
             [
              0.2222222222222222,
              "#7201a8"
             ],
             [
              0.3333333333333333,
              "#9c179e"
             ],
             [
              0.4444444444444444,
              "#bd3786"
             ],
             [
              0.5555555555555556,
              "#d8576b"
             ],
             [
              0.6666666666666666,
              "#ed7953"
             ],
             [
              0.7777777777777778,
              "#fb9f3a"
             ],
             [
              0.8888888888888888,
              "#fdca26"
             ],
             [
              1,
              "#f0f921"
             ]
            ],
            "type": "heatmapgl"
           }
          ],
          "histogram": [
           {
            "marker": {
             "pattern": {
              "fillmode": "overlay",
              "size": 10,
              "solidity": 0.2
             }
            },
            "type": "histogram"
           }
          ],
          "histogram2d": [
           {
            "colorbar": {
             "outlinewidth": 0,
             "ticks": ""
            },
            "colorscale": [
             [
              0,
              "#0d0887"
             ],
             [
              0.1111111111111111,
              "#46039f"
             ],
             [
              0.2222222222222222,
              "#7201a8"
             ],
             [
              0.3333333333333333,
              "#9c179e"
             ],
             [
              0.4444444444444444,
              "#bd3786"
             ],
             [
              0.5555555555555556,
              "#d8576b"
             ],
             [
              0.6666666666666666,
              "#ed7953"
             ],
             [
              0.7777777777777778,
              "#fb9f3a"
             ],
             [
              0.8888888888888888,
              "#fdca26"
             ],
             [
              1,
              "#f0f921"
             ]
            ],
            "type": "histogram2d"
           }
          ],
          "histogram2dcontour": [
           {
            "colorbar": {
             "outlinewidth": 0,
             "ticks": ""
            },
            "colorscale": [
             [
              0,
              "#0d0887"
             ],
             [
              0.1111111111111111,
              "#46039f"
             ],
             [
              0.2222222222222222,
              "#7201a8"
             ],
             [
              0.3333333333333333,
              "#9c179e"
             ],
             [
              0.4444444444444444,
              "#bd3786"
             ],
             [
              0.5555555555555556,
              "#d8576b"
             ],
             [
              0.6666666666666666,
              "#ed7953"
             ],
             [
              0.7777777777777778,
              "#fb9f3a"
             ],
             [
              0.8888888888888888,
              "#fdca26"
             ],
             [
              1,
              "#f0f921"
             ]
            ],
            "type": "histogram2dcontour"
           }
          ],
          "mesh3d": [
           {
            "colorbar": {
             "outlinewidth": 0,
             "ticks": ""
            },
            "type": "mesh3d"
           }
          ],
          "parcoords": [
           {
            "line": {
             "colorbar": {
              "outlinewidth": 0,
              "ticks": ""
             }
            },
            "type": "parcoords"
           }
          ],
          "pie": [
           {
            "automargin": true,
            "type": "pie"
           }
          ],
          "scatter": [
           {
            "fillpattern": {
             "fillmode": "overlay",
             "size": 10,
             "solidity": 0.2
            },
            "type": "scatter"
           }
          ],
          "scatter3d": [
           {
            "line": {
             "colorbar": {
              "outlinewidth": 0,
              "ticks": ""
             }
            },
            "marker": {
             "colorbar": {
              "outlinewidth": 0,
              "ticks": ""
             }
            },
            "type": "scatter3d"
           }
          ],
          "scattercarpet": [
           {
            "marker": {
             "colorbar": {
              "outlinewidth": 0,
              "ticks": ""
             }
            },
            "type": "scattercarpet"
           }
          ],
          "scattergeo": [
           {
            "marker": {
             "colorbar": {
              "outlinewidth": 0,
              "ticks": ""
             }
            },
            "type": "scattergeo"
           }
          ],
          "scattergl": [
           {
            "marker": {
             "colorbar": {
              "outlinewidth": 0,
              "ticks": ""
             }
            },
            "type": "scattergl"
           }
          ],
          "scattermapbox": [
           {
            "marker": {
             "colorbar": {
              "outlinewidth": 0,
              "ticks": ""
             }
            },
            "type": "scattermapbox"
           }
          ],
          "scatterpolar": [
           {
            "marker": {
             "colorbar": {
              "outlinewidth": 0,
              "ticks": ""
             }
            },
            "type": "scatterpolar"
           }
          ],
          "scatterpolargl": [
           {
            "marker": {
             "colorbar": {
              "outlinewidth": 0,
              "ticks": ""
             }
            },
            "type": "scatterpolargl"
           }
          ],
          "scatterternary": [
           {
            "marker": {
             "colorbar": {
              "outlinewidth": 0,
              "ticks": ""
             }
            },
            "type": "scatterternary"
           }
          ],
          "surface": [
           {
            "colorbar": {
             "outlinewidth": 0,
             "ticks": ""
            },
            "colorscale": [
             [
              0,
              "#0d0887"
             ],
             [
              0.1111111111111111,
              "#46039f"
             ],
             [
              0.2222222222222222,
              "#7201a8"
             ],
             [
              0.3333333333333333,
              "#9c179e"
             ],
             [
              0.4444444444444444,
              "#bd3786"
             ],
             [
              0.5555555555555556,
              "#d8576b"
             ],
             [
              0.6666666666666666,
              "#ed7953"
             ],
             [
              0.7777777777777778,
              "#fb9f3a"
             ],
             [
              0.8888888888888888,
              "#fdca26"
             ],
             [
              1,
              "#f0f921"
             ]
            ],
            "type": "surface"
           }
          ],
          "table": [
           {
            "cells": {
             "fill": {
              "color": "#EBF0F8"
             },
             "line": {
              "color": "white"
             }
            },
            "header": {
             "fill": {
              "color": "#C8D4E3"
             },
             "line": {
              "color": "white"
             }
            },
            "type": "table"
           }
          ]
         },
         "layout": {
          "annotationdefaults": {
           "arrowcolor": "#2a3f5f",
           "arrowhead": 0,
           "arrowwidth": 1
          },
          "autotypenumbers": "strict",
          "coloraxis": {
           "colorbar": {
            "outlinewidth": 0,
            "ticks": ""
           }
          },
          "colorscale": {
           "diverging": [
            [
             0,
             "#8e0152"
            ],
            [
             0.1,
             "#c51b7d"
            ],
            [
             0.2,
             "#de77ae"
            ],
            [
             0.3,
             "#f1b6da"
            ],
            [
             0.4,
             "#fde0ef"
            ],
            [
             0.5,
             "#f7f7f7"
            ],
            [
             0.6,
             "#e6f5d0"
            ],
            [
             0.7,
             "#b8e186"
            ],
            [
             0.8,
             "#7fbc41"
            ],
            [
             0.9,
             "#4d9221"
            ],
            [
             1,
             "#276419"
            ]
           ],
           "sequential": [
            [
             0,
             "#0d0887"
            ],
            [
             0.1111111111111111,
             "#46039f"
            ],
            [
             0.2222222222222222,
             "#7201a8"
            ],
            [
             0.3333333333333333,
             "#9c179e"
            ],
            [
             0.4444444444444444,
             "#bd3786"
            ],
            [
             0.5555555555555556,
             "#d8576b"
            ],
            [
             0.6666666666666666,
             "#ed7953"
            ],
            [
             0.7777777777777778,
             "#fb9f3a"
            ],
            [
             0.8888888888888888,
             "#fdca26"
            ],
            [
             1,
             "#f0f921"
            ]
           ],
           "sequentialminus": [
            [
             0,
             "#0d0887"
            ],
            [
             0.1111111111111111,
             "#46039f"
            ],
            [
             0.2222222222222222,
             "#7201a8"
            ],
            [
             0.3333333333333333,
             "#9c179e"
            ],
            [
             0.4444444444444444,
             "#bd3786"
            ],
            [
             0.5555555555555556,
             "#d8576b"
            ],
            [
             0.6666666666666666,
             "#ed7953"
            ],
            [
             0.7777777777777778,
             "#fb9f3a"
            ],
            [
             0.8888888888888888,
             "#fdca26"
            ],
            [
             1,
             "#f0f921"
            ]
           ]
          },
          "colorway": [
           "#636efa",
           "#EF553B",
           "#00cc96",
           "#ab63fa",
           "#FFA15A",
           "#19d3f3",
           "#FF6692",
           "#B6E880",
           "#FF97FF",
           "#FECB52"
          ],
          "font": {
           "color": "#2a3f5f"
          },
          "geo": {
           "bgcolor": "white",
           "lakecolor": "white",
           "landcolor": "#E5ECF6",
           "showlakes": true,
           "showland": true,
           "subunitcolor": "white"
          },
          "hoverlabel": {
           "align": "left"
          },
          "hovermode": "closest",
          "mapbox": {
           "style": "light"
          },
          "paper_bgcolor": "white",
          "plot_bgcolor": "#E5ECF6",
          "polar": {
           "angularaxis": {
            "gridcolor": "white",
            "linecolor": "white",
            "ticks": ""
           },
           "bgcolor": "#E5ECF6",
           "radialaxis": {
            "gridcolor": "white",
            "linecolor": "white",
            "ticks": ""
           }
          },
          "scene": {
           "xaxis": {
            "backgroundcolor": "#E5ECF6",
            "gridcolor": "white",
            "gridwidth": 2,
            "linecolor": "white",
            "showbackground": true,
            "ticks": "",
            "zerolinecolor": "white"
           },
           "yaxis": {
            "backgroundcolor": "#E5ECF6",
            "gridcolor": "white",
            "gridwidth": 2,
            "linecolor": "white",
            "showbackground": true,
            "ticks": "",
            "zerolinecolor": "white"
           },
           "zaxis": {
            "backgroundcolor": "#E5ECF6",
            "gridcolor": "white",
            "gridwidth": 2,
            "linecolor": "white",
            "showbackground": true,
            "ticks": "",
            "zerolinecolor": "white"
           }
          },
          "shapedefaults": {
           "line": {
            "color": "#2a3f5f"
           }
          },
          "ternary": {
           "aaxis": {
            "gridcolor": "white",
            "linecolor": "white",
            "ticks": ""
           },
           "baxis": {
            "gridcolor": "white",
            "linecolor": "white",
            "ticks": ""
           },
           "bgcolor": "#E5ECF6",
           "caxis": {
            "gridcolor": "white",
            "linecolor": "white",
            "ticks": ""
           }
          },
          "title": {
           "x": 0.05
          },
          "xaxis": {
           "automargin": true,
           "gridcolor": "white",
           "linecolor": "white",
           "ticks": "",
           "title": {
            "standoff": 15
           },
           "zerolinecolor": "white",
           "zerolinewidth": 2
          },
          "yaxis": {
           "automargin": true,
           "gridcolor": "white",
           "linecolor": "white",
           "ticks": "",
           "title": {
            "standoff": 15
           },
           "zerolinecolor": "white",
           "zerolinewidth": 2
          }
         }
        },
        "title": {
         "text": "Média dos Parâmetros"
        }
       }
      }
     },
     "metadata": {},
     "output_type": "display_data"
    }
   ],
   "source": [
    "#criar um gráfico de barras\n",
    "fig = go.Figure()\n",
    "fig.add_trace(go.Bar(x=[\"Tempo-Entrega-Real\", \"Tempo-Entrega\", \"hora-do-pedido\"], y=[media_tempo_real, media_tempo_entrega, media_horario_pedido]))\n",
    "\n",
    "#adicionar um título ao gráfico\n",
    "fig.update_layout(title=\"Média dos Parâmetros\")\n",
    "\n",
    "#exibir o gráfico\n",
    "fig.show()"
   ]
  },
  {
   "cell_type": "code",
   "execution_count": 15,
   "metadata": {},
   "outputs": [
    {
     "data": {
      "application/vnd.plotly.v1+json": {
       "config": {
        "plotlyServerURL": "https://plot.ly"
       },
       "data": [
        {
         "mode": "markers",
         "type": "scatter",
         "x": [
          1.4562893081761006,
          1.45188679245283,
          15.049056603773584
         ],
         "y": [
          1.4562893081761006,
          1.45188679245283,
          15.049056603773584
         ]
        }
       ],
       "layout": {
        "template": {
         "data": {
          "bar": [
           {
            "error_x": {
             "color": "#2a3f5f"
            },
            "error_y": {
             "color": "#2a3f5f"
            },
            "marker": {
             "line": {
              "color": "#E5ECF6",
              "width": 0.5
             },
             "pattern": {
              "fillmode": "overlay",
              "size": 10,
              "solidity": 0.2
             }
            },
            "type": "bar"
           }
          ],
          "barpolar": [
           {
            "marker": {
             "line": {
              "color": "#E5ECF6",
              "width": 0.5
             },
             "pattern": {
              "fillmode": "overlay",
              "size": 10,
              "solidity": 0.2
             }
            },
            "type": "barpolar"
           }
          ],
          "carpet": [
           {
            "aaxis": {
             "endlinecolor": "#2a3f5f",
             "gridcolor": "white",
             "linecolor": "white",
             "minorgridcolor": "white",
             "startlinecolor": "#2a3f5f"
            },
            "baxis": {
             "endlinecolor": "#2a3f5f",
             "gridcolor": "white",
             "linecolor": "white",
             "minorgridcolor": "white",
             "startlinecolor": "#2a3f5f"
            },
            "type": "carpet"
           }
          ],
          "choropleth": [
           {
            "colorbar": {
             "outlinewidth": 0,
             "ticks": ""
            },
            "type": "choropleth"
           }
          ],
          "contour": [
           {
            "colorbar": {
             "outlinewidth": 0,
             "ticks": ""
            },
            "colorscale": [
             [
              0,
              "#0d0887"
             ],
             [
              0.1111111111111111,
              "#46039f"
             ],
             [
              0.2222222222222222,
              "#7201a8"
             ],
             [
              0.3333333333333333,
              "#9c179e"
             ],
             [
              0.4444444444444444,
              "#bd3786"
             ],
             [
              0.5555555555555556,
              "#d8576b"
             ],
             [
              0.6666666666666666,
              "#ed7953"
             ],
             [
              0.7777777777777778,
              "#fb9f3a"
             ],
             [
              0.8888888888888888,
              "#fdca26"
             ],
             [
              1,
              "#f0f921"
             ]
            ],
            "type": "contour"
           }
          ],
          "contourcarpet": [
           {
            "colorbar": {
             "outlinewidth": 0,
             "ticks": ""
            },
            "type": "contourcarpet"
           }
          ],
          "heatmap": [
           {
            "colorbar": {
             "outlinewidth": 0,
             "ticks": ""
            },
            "colorscale": [
             [
              0,
              "#0d0887"
             ],
             [
              0.1111111111111111,
              "#46039f"
             ],
             [
              0.2222222222222222,
              "#7201a8"
             ],
             [
              0.3333333333333333,
              "#9c179e"
             ],
             [
              0.4444444444444444,
              "#bd3786"
             ],
             [
              0.5555555555555556,
              "#d8576b"
             ],
             [
              0.6666666666666666,
              "#ed7953"
             ],
             [
              0.7777777777777778,
              "#fb9f3a"
             ],
             [
              0.8888888888888888,
              "#fdca26"
             ],
             [
              1,
              "#f0f921"
             ]
            ],
            "type": "heatmap"
           }
          ],
          "heatmapgl": [
           {
            "colorbar": {
             "outlinewidth": 0,
             "ticks": ""
            },
            "colorscale": [
             [
              0,
              "#0d0887"
             ],
             [
              0.1111111111111111,
              "#46039f"
             ],
             [
              0.2222222222222222,
              "#7201a8"
             ],
             [
              0.3333333333333333,
              "#9c179e"
             ],
             [
              0.4444444444444444,
              "#bd3786"
             ],
             [
              0.5555555555555556,
              "#d8576b"
             ],
             [
              0.6666666666666666,
              "#ed7953"
             ],
             [
              0.7777777777777778,
              "#fb9f3a"
             ],
             [
              0.8888888888888888,
              "#fdca26"
             ],
             [
              1,
              "#f0f921"
             ]
            ],
            "type": "heatmapgl"
           }
          ],
          "histogram": [
           {
            "marker": {
             "pattern": {
              "fillmode": "overlay",
              "size": 10,
              "solidity": 0.2
             }
            },
            "type": "histogram"
           }
          ],
          "histogram2d": [
           {
            "colorbar": {
             "outlinewidth": 0,
             "ticks": ""
            },
            "colorscale": [
             [
              0,
              "#0d0887"
             ],
             [
              0.1111111111111111,
              "#46039f"
             ],
             [
              0.2222222222222222,
              "#7201a8"
             ],
             [
              0.3333333333333333,
              "#9c179e"
             ],
             [
              0.4444444444444444,
              "#bd3786"
             ],
             [
              0.5555555555555556,
              "#d8576b"
             ],
             [
              0.6666666666666666,
              "#ed7953"
             ],
             [
              0.7777777777777778,
              "#fb9f3a"
             ],
             [
              0.8888888888888888,
              "#fdca26"
             ],
             [
              1,
              "#f0f921"
             ]
            ],
            "type": "histogram2d"
           }
          ],
          "histogram2dcontour": [
           {
            "colorbar": {
             "outlinewidth": 0,
             "ticks": ""
            },
            "colorscale": [
             [
              0,
              "#0d0887"
             ],
             [
              0.1111111111111111,
              "#46039f"
             ],
             [
              0.2222222222222222,
              "#7201a8"
             ],
             [
              0.3333333333333333,
              "#9c179e"
             ],
             [
              0.4444444444444444,
              "#bd3786"
             ],
             [
              0.5555555555555556,
              "#d8576b"
             ],
             [
              0.6666666666666666,
              "#ed7953"
             ],
             [
              0.7777777777777778,
              "#fb9f3a"
             ],
             [
              0.8888888888888888,
              "#fdca26"
             ],
             [
              1,
              "#f0f921"
             ]
            ],
            "type": "histogram2dcontour"
           }
          ],
          "mesh3d": [
           {
            "colorbar": {
             "outlinewidth": 0,
             "ticks": ""
            },
            "type": "mesh3d"
           }
          ],
          "parcoords": [
           {
            "line": {
             "colorbar": {
              "outlinewidth": 0,
              "ticks": ""
             }
            },
            "type": "parcoords"
           }
          ],
          "pie": [
           {
            "automargin": true,
            "type": "pie"
           }
          ],
          "scatter": [
           {
            "fillpattern": {
             "fillmode": "overlay",
             "size": 10,
             "solidity": 0.2
            },
            "type": "scatter"
           }
          ],
          "scatter3d": [
           {
            "line": {
             "colorbar": {
              "outlinewidth": 0,
              "ticks": ""
             }
            },
            "marker": {
             "colorbar": {
              "outlinewidth": 0,
              "ticks": ""
             }
            },
            "type": "scatter3d"
           }
          ],
          "scattercarpet": [
           {
            "marker": {
             "colorbar": {
              "outlinewidth": 0,
              "ticks": ""
             }
            },
            "type": "scattercarpet"
           }
          ],
          "scattergeo": [
           {
            "marker": {
             "colorbar": {
              "outlinewidth": 0,
              "ticks": ""
             }
            },
            "type": "scattergeo"
           }
          ],
          "scattergl": [
           {
            "marker": {
             "colorbar": {
              "outlinewidth": 0,
              "ticks": ""
             }
            },
            "type": "scattergl"
           }
          ],
          "scattermapbox": [
           {
            "marker": {
             "colorbar": {
              "outlinewidth": 0,
              "ticks": ""
             }
            },
            "type": "scattermapbox"
           }
          ],
          "scatterpolar": [
           {
            "marker": {
             "colorbar": {
              "outlinewidth": 0,
              "ticks": ""
             }
            },
            "type": "scatterpolar"
           }
          ],
          "scatterpolargl": [
           {
            "marker": {
             "colorbar": {
              "outlinewidth": 0,
              "ticks": ""
             }
            },
            "type": "scatterpolargl"
           }
          ],
          "scatterternary": [
           {
            "marker": {
             "colorbar": {
              "outlinewidth": 0,
              "ticks": ""
             }
            },
            "type": "scatterternary"
           }
          ],
          "surface": [
           {
            "colorbar": {
             "outlinewidth": 0,
             "ticks": ""
            },
            "colorscale": [
             [
              0,
              "#0d0887"
             ],
             [
              0.1111111111111111,
              "#46039f"
             ],
             [
              0.2222222222222222,
              "#7201a8"
             ],
             [
              0.3333333333333333,
              "#9c179e"
             ],
             [
              0.4444444444444444,
              "#bd3786"
             ],
             [
              0.5555555555555556,
              "#d8576b"
             ],
             [
              0.6666666666666666,
              "#ed7953"
             ],
             [
              0.7777777777777778,
              "#fb9f3a"
             ],
             [
              0.8888888888888888,
              "#fdca26"
             ],
             [
              1,
              "#f0f921"
             ]
            ],
            "type": "surface"
           }
          ],
          "table": [
           {
            "cells": {
             "fill": {
              "color": "#EBF0F8"
             },
             "line": {
              "color": "white"
             }
            },
            "header": {
             "fill": {
              "color": "#C8D4E3"
             },
             "line": {
              "color": "white"
             }
            },
            "type": "table"
           }
          ]
         },
         "layout": {
          "annotationdefaults": {
           "arrowcolor": "#2a3f5f",
           "arrowhead": 0,
           "arrowwidth": 1
          },
          "autotypenumbers": "strict",
          "coloraxis": {
           "colorbar": {
            "outlinewidth": 0,
            "ticks": ""
           }
          },
          "colorscale": {
           "diverging": [
            [
             0,
             "#8e0152"
            ],
            [
             0.1,
             "#c51b7d"
            ],
            [
             0.2,
             "#de77ae"
            ],
            [
             0.3,
             "#f1b6da"
            ],
            [
             0.4,
             "#fde0ef"
            ],
            [
             0.5,
             "#f7f7f7"
            ],
            [
             0.6,
             "#e6f5d0"
            ],
            [
             0.7,
             "#b8e186"
            ],
            [
             0.8,
             "#7fbc41"
            ],
            [
             0.9,
             "#4d9221"
            ],
            [
             1,
             "#276419"
            ]
           ],
           "sequential": [
            [
             0,
             "#0d0887"
            ],
            [
             0.1111111111111111,
             "#46039f"
            ],
            [
             0.2222222222222222,
             "#7201a8"
            ],
            [
             0.3333333333333333,
             "#9c179e"
            ],
            [
             0.4444444444444444,
             "#bd3786"
            ],
            [
             0.5555555555555556,
             "#d8576b"
            ],
            [
             0.6666666666666666,
             "#ed7953"
            ],
            [
             0.7777777777777778,
             "#fb9f3a"
            ],
            [
             0.8888888888888888,
             "#fdca26"
            ],
            [
             1,
             "#f0f921"
            ]
           ],
           "sequentialminus": [
            [
             0,
             "#0d0887"
            ],
            [
             0.1111111111111111,
             "#46039f"
            ],
            [
             0.2222222222222222,
             "#7201a8"
            ],
            [
             0.3333333333333333,
             "#9c179e"
            ],
            [
             0.4444444444444444,
             "#bd3786"
            ],
            [
             0.5555555555555556,
             "#d8576b"
            ],
            [
             0.6666666666666666,
             "#ed7953"
            ],
            [
             0.7777777777777778,
             "#fb9f3a"
            ],
            [
             0.8888888888888888,
             "#fdca26"
            ],
            [
             1,
             "#f0f921"
            ]
           ]
          },
          "colorway": [
           "#636efa",
           "#EF553B",
           "#00cc96",
           "#ab63fa",
           "#FFA15A",
           "#19d3f3",
           "#FF6692",
           "#B6E880",
           "#FF97FF",
           "#FECB52"
          ],
          "font": {
           "color": "#2a3f5f"
          },
          "geo": {
           "bgcolor": "white",
           "lakecolor": "white",
           "landcolor": "#E5ECF6",
           "showlakes": true,
           "showland": true,
           "subunitcolor": "white"
          },
          "hoverlabel": {
           "align": "left"
          },
          "hovermode": "closest",
          "mapbox": {
           "style": "light"
          },
          "paper_bgcolor": "white",
          "plot_bgcolor": "#E5ECF6",
          "polar": {
           "angularaxis": {
            "gridcolor": "white",
            "linecolor": "white",
            "ticks": ""
           },
           "bgcolor": "#E5ECF6",
           "radialaxis": {
            "gridcolor": "white",
            "linecolor": "white",
            "ticks": ""
           }
          },
          "scene": {
           "xaxis": {
            "backgroundcolor": "#E5ECF6",
            "gridcolor": "white",
            "gridwidth": 2,
            "linecolor": "white",
            "showbackground": true,
            "ticks": "",
            "zerolinecolor": "white"
           },
           "yaxis": {
            "backgroundcolor": "#E5ECF6",
            "gridcolor": "white",
            "gridwidth": 2,
            "linecolor": "white",
            "showbackground": true,
            "ticks": "",
            "zerolinecolor": "white"
           },
           "zaxis": {
            "backgroundcolor": "#E5ECF6",
            "gridcolor": "white",
            "gridwidth": 2,
            "linecolor": "white",
            "showbackground": true,
            "ticks": "",
            "zerolinecolor": "white"
           }
          },
          "shapedefaults": {
           "line": {
            "color": "#2a3f5f"
           }
          },
          "ternary": {
           "aaxis": {
            "gridcolor": "white",
            "linecolor": "white",
            "ticks": ""
           },
           "baxis": {
            "gridcolor": "white",
            "linecolor": "white",
            "ticks": ""
           },
           "bgcolor": "#E5ECF6",
           "caxis": {
            "gridcolor": "white",
            "linecolor": "white",
            "ticks": ""
           }
          },
          "title": {
           "x": 0.05
          },
          "xaxis": {
           "automargin": true,
           "gridcolor": "white",
           "linecolor": "white",
           "ticks": "",
           "title": {
            "standoff": 15
           },
           "zerolinecolor": "white",
           "zerolinewidth": 2
          },
          "yaxis": {
           "automargin": true,
           "gridcolor": "white",
           "linecolor": "white",
           "ticks": "",
           "title": {
            "standoff": 15
           },
           "zerolinecolor": "white",
           "zerolinewidth": 2
          }
         }
        },
        "title": {
         "text": "Média dos Parâmetros"
        },
        "xaxis": {
         "title": {
          "text": "Tempo em Horas"
         }
        },
        "yaxis": {
         "title": {
          "text": "Tempo em Horas"
         }
        }
       }
      }
     },
     "metadata": {},
     "output_type": "display_data"
    }
   ],
   "source": [
    "import numpy as np\n",
    "import plotly.graph_objects as go\n",
    "import pandas as pd\n",
    "\n",
    "dataFrame = pd.read_csv('https://gist.githubusercontent.com/altinodantas/2d57753e48eeacd20a6c1ff6ebe94f6d/raw/e6868648a75a340a651b5494e0f210f1010810aa/dados-delivery.csv')\n",
    "\n",
    "# Converting the horario-pedido column to a datetime-like value\n",
    "dataFrame['hora-do-pedido'] = pd.to_datetime(dataFrame['hora-do-pedido'])\n",
    "\n",
    "# Calculating the mean of the hora-do-pedido column in seconds\n",
    "hora_do_pedido_seconds = dataFrame['hora-do-pedido']\n",
    "media_hora_do_pedido = hora_do_pedido_seconds.mean()\n",
    "\n",
    "# Calculating the mean of the other parameters\n",
    "media_tempo_real = tempo_real.mean() / 60\n",
    "media_tempo_entrega = tempo_entrega.mean() / 60\n",
    "\n",
    "# Criando o gráfico de dispersão\n",
    "fig = go.Figure()\n",
    "fig.add_trace(go.Scatter(x=[media_tempo_real, media_tempo_entrega, media_horario_pedido], y=[media_tempo_real, media_tempo_entrega, media_horario_pedido], mode=\"markers\"))\n",
    "\n",
    "# Adicionando um título ao gráfico\n",
    "fig.update_layout(title=\"Média dos Parâmetros\")\n",
    "\n",
    "# Adicionando rótulos aos eixos\n",
    "fig.update_xaxes(title=\"Tempo em Horas\")\n",
    "fig.update_yaxes(title=\"Tempo em Horas\")\n",
    "\n",
    "# Exibindo o gráfico\n",
    "fig.show()"
   ]
  }
 ],
 "metadata": {
  "kernelspec": {
   "display_name": "Python 3",
   "language": "python",
   "name": "python3"
  },
  "language_info": {
   "codemirror_mode": {
    "name": "ipython",
    "version": 3
   },
   "file_extension": ".py",
   "mimetype": "text/x-python",
   "name": "python",
   "nbconvert_exporter": "python",
   "pygments_lexer": "ipython3",
   "version": "3.11.6"
  }
 },
 "nbformat": 4,
 "nbformat_minor": 2
}
