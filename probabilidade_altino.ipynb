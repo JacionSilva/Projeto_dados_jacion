{
 "cells": [
  {
   "cell_type": "code",
   "execution_count": null,
   "metadata": {},
   "outputs": [],
   "source": [
    "import pandas as pd\n",
    "\n",
    "dados = pd.read_csv('https://gist.githubusercontent.com/altinodantas/d5285d4660db4db73c26277598c8f2a3/raw/535bfab21557cd1597f1d6b11674c36d2b9476f5/benchmark.csv')\n",
    "\n",
    "amostra_estratificada_n = dados.groupby('SEXO').apply(lambda grupo: grupo.sample(frac=.1))#quando frac é uma fração quando n = numeros inteiros\n",
    "                                        \n",
    "amostra_estratificada_n"
   ]
  },
  {
   "cell_type": "code",
   "execution_count": 2,
   "metadata": {},
   "outputs": [],
   "source": [
    "grupo_a = amostra_estratificada_n[amostra_estratificada_n['SEXO']=='F']"
   ]
  },
  {
   "cell_type": "code",
   "execution_count": 3,
   "metadata": {},
   "outputs": [
    {
     "data": {
      "text/html": [
       "<div>\n",
       "<style scoped>\n",
       "    .dataframe tbody tr th:only-of-type {\n",
       "        vertical-align: middle;\n",
       "    }\n",
       "\n",
       "    .dataframe tbody tr th {\n",
       "        vertical-align: top;\n",
       "    }\n",
       "\n",
       "    .dataframe thead th {\n",
       "        text-align: right;\n",
       "    }\n",
       "</style>\n",
       "<table border=\"1\" class=\"dataframe\">\n",
       "  <thead>\n",
       "    <tr style=\"text-align: right;\">\n",
       "      <th></th>\n",
       "      <th>Estudo</th>\n",
       "      <th>Renda</th>\n",
       "      <th>Idade</th>\n",
       "      <th>Altura</th>\n",
       "    </tr>\n",
       "  </thead>\n",
       "  <tbody>\n",
       "    <tr>\n",
       "      <th>count</th>\n",
       "      <td>2359.000000</td>\n",
       "      <td>2359.000000</td>\n",
       "      <td>2359.000000</td>\n",
       "      <td>2359.000000</td>\n",
       "    </tr>\n",
       "    <tr>\n",
       "      <th>mean</th>\n",
       "      <td>10.465028</td>\n",
       "      <td>1611.356507</td>\n",
       "      <td>44.423908</td>\n",
       "      <td>1.560895</td>\n",
       "    </tr>\n",
       "    <tr>\n",
       "      <th>std</th>\n",
       "      <td>4.374868</td>\n",
       "      <td>2997.561647</td>\n",
       "      <td>12.271043</td>\n",
       "      <td>0.448608</td>\n",
       "    </tr>\n",
       "    <tr>\n",
       "      <th>min</th>\n",
       "      <td>1.000000</td>\n",
       "      <td>0.000000</td>\n",
       "      <td>17.000000</td>\n",
       "      <td>0.000165</td>\n",
       "    </tr>\n",
       "    <tr>\n",
       "      <th>25%</th>\n",
       "      <td>7.000000</td>\n",
       "      <td>745.000000</td>\n",
       "      <td>35.000000</td>\n",
       "      <td>1.625558</td>\n",
       "    </tr>\n",
       "    <tr>\n",
       "      <th>50%</th>\n",
       "      <td>12.000000</td>\n",
       "      <td>950.000000</td>\n",
       "      <td>44.000000</td>\n",
       "      <td>1.687915</td>\n",
       "    </tr>\n",
       "    <tr>\n",
       "      <th>75%</th>\n",
       "      <td>13.000000</td>\n",
       "      <td>1500.000000</td>\n",
       "      <td>53.000000</td>\n",
       "      <td>1.747916</td>\n",
       "    </tr>\n",
       "    <tr>\n",
       "      <th>max</th>\n",
       "      <td>17.000000</td>\n",
       "      <td>100000.000000</td>\n",
       "      <td>90.000000</td>\n",
       "      <td>1.948985</td>\n",
       "    </tr>\n",
       "  </tbody>\n",
       "</table>\n",
       "</div>"
      ],
      "text/plain": [
       "            Estudo          Renda        Idade       Altura\n",
       "count  2359.000000    2359.000000  2359.000000  2359.000000\n",
       "mean     10.465028    1611.356507    44.423908     1.560895\n",
       "std       4.374868    2997.561647    12.271043     0.448608\n",
       "min       1.000000       0.000000    17.000000     0.000165\n",
       "25%       7.000000     745.000000    35.000000     1.625558\n",
       "50%      12.000000     950.000000    44.000000     1.687915\n",
       "75%      13.000000    1500.000000    53.000000     1.747916\n",
       "max      17.000000  100000.000000    90.000000     1.948985"
      ]
     },
     "execution_count": 3,
     "metadata": {},
     "output_type": "execute_result"
    }
   ],
   "source": [
    "grupo_a.describe()"
   ]
  },
  {
   "cell_type": "code",
   "execution_count": null,
   "metadata": {},
   "outputs": [],
   "source": [
    "#Amostragem Sistemática \n",
    "import random \n",
    "\n",
    "N = len(dados)\n",
    "n = 10\n",
    "k = N/n\n",
    "b = random.randint(0, k)\n",
    "\n",
    "indices = [int(b+k*i) for i in range(n)]\n",
    "\n",
    "amostra_sistematica = dados[dados.index.isin(indices)]\n",
    "amostra_sistematica\n",
    "grupo_b = amostra_sistematica[amostra_sistematica[\"SEXO\"] == \"F\"]\n",
    "grupo_b"
   ]
  },
  {
   "cell_type": "code",
   "execution_count": 7,
   "metadata": {},
   "outputs": [
    {
     "data": {
      "text/html": [
       "<div>\n",
       "<style scoped>\n",
       "    .dataframe tbody tr th:only-of-type {\n",
       "        vertical-align: middle;\n",
       "    }\n",
       "\n",
       "    .dataframe tbody tr th {\n",
       "        vertical-align: top;\n",
       "    }\n",
       "\n",
       "    .dataframe thead th {\n",
       "        text-align: right;\n",
       "    }\n",
       "</style>\n",
       "<table border=\"1\" class=\"dataframe\">\n",
       "  <thead>\n",
       "    <tr style=\"text-align: right;\">\n",
       "      <th></th>\n",
       "      <th>Estudo</th>\n",
       "      <th>Renda</th>\n",
       "      <th>UF</th>\n",
       "      <th>COR</th>\n",
       "      <th>Idade</th>\n",
       "      <th>Altura</th>\n",
       "    </tr>\n",
       "    <tr>\n",
       "      <th>SEXO</th>\n",
       "      <th></th>\n",
       "      <th></th>\n",
       "      <th></th>\n",
       "      <th></th>\n",
       "      <th></th>\n",
       "      <th></th>\n",
       "    </tr>\n",
       "  </thead>\n",
       "  <tbody>\n",
       "    <tr>\n",
       "      <th>F</th>\n",
       "      <td>23590</td>\n",
       "      <td>23590</td>\n",
       "      <td>23590</td>\n",
       "      <td>23590</td>\n",
       "      <td>23590</td>\n",
       "      <td>23590</td>\n",
       "    </tr>\n",
       "    <tr>\n",
       "      <th>M</th>\n",
       "      <td>53250</td>\n",
       "      <td>53250</td>\n",
       "      <td>53250</td>\n",
       "      <td>53250</td>\n",
       "      <td>53250</td>\n",
       "      <td>53250</td>\n",
       "    </tr>\n",
       "  </tbody>\n",
       "</table>\n",
       "</div>"
      ],
      "text/plain": [
       "      Estudo  Renda     UF    COR  Idade  Altura\n",
       "SEXO                                            \n",
       "F      23590  23590  23590  23590  23590   23590\n",
       "M      53250  53250  53250  53250  53250   53250"
      ]
     },
     "execution_count": 7,
     "metadata": {},
     "output_type": "execute_result"
    }
   ],
   "source": [
    "dados.groupby(by='SEXO').count()"
   ]
  },
  {
   "cell_type": "code",
   "execution_count": 8,
   "metadata": {},
   "outputs": [],
   "source": [
    "import pandas as pd\n",
    "\n",
    "# Lê o arquivo CSV\n",
    "dados = pd.read_csv('https://gist.githubusercontent.com/altinodantas/d5285d4660db4db73c26277598c8f2a3/raw/535bfab21557cd1597f1d6b11674c36d2b9476f5/benchmark.csv')\n",
    "\n",
    "# Cria um novo arquivo CSV\n",
    "with open('novo_arquivo.csv', 'w', newline='') as arquivo_saida:\n",
    "  arquivo_saida.write(dados.to_csv())"
   ]
  },
  {
   "cell_type": "code",
   "execution_count": null,
   "metadata": {},
   "outputs": [],
   "source": [
    "import pandas as pd\n",
    "\n",
    "# Lê o arquivo CSV\n",
    "dados = pd.read_csv('https://gist.githubusercontent.com/altinodantas/2d57753e48eeacd20a6c1ff6ebe94f6d/raw/e6868648a75a340a651b5494e0f210f1010810aa/dados-delivery.csv')\n",
    "\n",
    "# Cria um novo arquivo CSV\n",
    "with open('dados_delivery.csv', 'w', newline='') as arquivo_saida:\n",
    "  arquivo_saida.write(dados.to_csv())"
   ]
  }
 ],
 "metadata": {
  "kernelspec": {
   "display_name": "Python 3",
   "language": "python",
   "name": "python3"
  },
  "language_info": {
   "codemirror_mode": {
    "name": "ipython",
    "version": 3
   },
   "file_extension": ".py",
   "mimetype": "text/x-python",
   "name": "python",
   "nbconvert_exporter": "python",
   "pygments_lexer": "ipython3",
   "version": "3.11.6"
  }
 },
 "nbformat": 4,
 "nbformat_minor": 2
}
