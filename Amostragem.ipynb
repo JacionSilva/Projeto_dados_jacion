{
 "cells": [
  {
   "cell_type": "code",
   "execution_count": null,
   "metadata": {},
   "outputs": [],
   "source": [
    "#Atividade 01\n",
    "\n",
    "import pandas as pd\n",
    "# Lê o arquivo CSV\n",
    "dados = pd.read_csv('https://gist.githubusercontent.com/altinodantas/2d57753e48eeacd20a6c1ff6ebe94f6d/raw/e6868648a75a340a651b5494e0f210f1010810aa/dados-delivery.csv')\n",
    "\n",
    "amostra_simples = dados['valor'].sample(n=150)\n",
    "#amostra_simples['valor']\n",
    "\n",
    "amostra_simples"
   ]
  },
  {
   "cell_type": "code",
   "execution_count": null,
   "metadata": {},
   "outputs": [],
   "source": [
    "#atividade 02\n",
    "amostra_estratificada = dados.groupby('Produto ', group_keys=False).apply(lambda grupo: grupo.sample(frac=0.2))\n",
    "\n",
    "amostra_estratificada[['Produto ','tempo-entrega-real']]"
   ]
  },
  {
   "cell_type": "code",
   "execution_count": null,
   "metadata": {},
   "outputs": [],
   "source": [
    "dados.columns.infer_objects"
   ]
  }
 ],
 "metadata": {
  "kernelspec": {
   "display_name": "Python 3",
   "language": "python",
   "name": "python3"
  },
  "language_info": {
   "codemirror_mode": {
    "name": "ipython",
    "version": 3
   },
   "file_extension": ".py",
   "mimetype": "text/x-python",
   "name": "python",
   "nbconvert_exporter": "python",
   "pygments_lexer": "ipython3",
   "version": "3.11.6"
  }
 },
 "nbformat": 4,
 "nbformat_minor": 2
}
