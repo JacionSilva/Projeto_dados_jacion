{
 "cells": [
  {
   "cell_type": "code",
   "execution_count": 1,
   "metadata": {},
   "outputs": [
    {
     "name": "stderr",
     "output_type": "stream",
     "text": [
      "C:\\Users\\jacio\\AppData\\Local\\Temp\\ipykernel_23520\\1005582529.py:1: DeprecationWarning: lib2to3 package is deprecated and may not be able to parse Python 3.10+\n",
      "  from lib2to3.pgen2.driver import Driver\n"
     ]
    }
   ],
   "source": [
    "from lib2to3.pgen2.driver import Driver\n",
    "\n",
    "import pyodbc\n",
    "import sqlexpress\n",
    "#senha = input(\"Digite a Senha\") cometado para usar senha fixa para testes.\n",
    "senha = 'Ja2313851@'\n",
    "\n",
    "def get_db_connection():\n",
    "    dados_conexao = (\n",
    "            \"Driver={SQL SERVER Native Client 11.0};\" #Nome do Driver\n",
    "            \"Server=JSILVA\\MSSQLSERVERNEW;\" #server do SQL \n",
    "            \"Database=TAF2210;\" #banco de dados do SQL\n",
    "            \"UID=sa;\" #user do SQL\n",
    "            \"PWD=\"+senha #senha do BANCO\n",
    "    )\n",
    "    print(str(dados_conexao))\n",
    "\n",
    "    conexao = pyodbc.connect(dados_conexao)\n",
    "    print(\"conexao bem sucedida\")\n",
    "    try:\n",
    "        conexao = pyodbc.connect(dados_conexao)\n",
    "        print(\"conexao bem sucedida\")\n",
    "    except Exception as e:\n",
    "        print(\"Erro ao tentar conectar:\", e)\n",
    "    return conexao\n"
   ]
  },
  {
   "cell_type": "code",
   "execution_count": 3,
   "metadata": {},
   "outputs": [],
   "source": [
    "#bibliotestas importação\n",
    "import numpy as np\n",
    "import plotly.graph_objects as go\n",
    "import matplotlib.pyplot as plt\n",
    "import seaborn as sns\n",
    "import pandas as pd\n",
    "#importando bibliotecas\n",
    "from sklearn.linear_model import LinearRegression\n",
    "from sklearn.metrics import mean_squared_error, r2_score\n",
    "import numpy as np\n",
    "import plotly.express as px\n",
    "import collections"
   ]
  },
  {
   "cell_type": "code",
   "execution_count": 2,
   "metadata": {},
   "outputs": [
    {
     "name": "stdout",
     "output_type": "stream",
     "text": [
      "Driver={SQL SERVER Native Client 11.0};Server=JSILVA\\MSSQLSERVERNEW;Database=TAF2210;UID=sa;PWD=Ja2313851@\n",
      "conexao bem sucedida\n",
      "conexao bem sucedida\n"
     ]
    }
   ],
   "source": [
    "conexao = get_db_connection()"
   ]
  },
  {
   "cell_type": "code",
   "execution_count": 7,
   "metadata": {},
   "outputs": [],
   "source": [
    "produtos = conexao.cursor()\n",
    "produtos.execute(f'select * from SB1990')\n",
    "\n",
    "# Obtém os dados da tabela\n",
    "tabela_produto = produtos.fetchall()\n",
    "\n",
    "# Converte os dados em um DataFrame\n",
    "df_produtos = pd.DataFrame(tabela_produto)\n",
    "\n",
    "# Define o delimitador de colunas\n",
    "df_produtos.to_csv('produtos.csv', sep=',')\n",
    "#colunas = df_produtos.columns\n",
    "#print(colunas)\n",
    "\n",
    "# Exibe uma prévia do arquivo CSV\n",
    "#pd.read_csv('produtos.csv', index_col=False).style.set_table_styles([{'selector': 'th', 'props': [('text-align', 'center')]}])"
   ]
  },
  {
   "cell_type": "code",
   "execution_count": 15,
   "metadata": {},
   "outputs": [],
   "source": [
    "clientes = conexao.cursor()\n",
    "clientes.execute(f'Select * from SA1990')\n",
    "\n",
    "# Obtém os títulos das colunas da tabela\n",
    "colunas = clientes.description\n",
    "\n",
    "# Obtém os dados da tabela no cursor\n",
    "tabela_clientes = clientes.fetchall()\n",
    "\n",
    "# Transforma os dados da tabela em uma lista de listas\n",
    "lista_clientes = [[coluna for coluna in linha] for linha in tabela_clientes]\n",
    "\n",
    "# Cria um DataFrame com os dados da tabela\n",
    "df_clientes = pd.DataFrame(lista_clientes, columns=colunas)\n",
    "\n",
    "# Pegando uma descrição do DataFrame\n",
    "df_clientes.describe()\n",
    "\n",
    "# Salvando o DataFrame em um arquivo CSV\n",
    "df_clientes.to_csv('tabela_clientes.csv', sep=',')"
   ]
  },
  {
   "cell_type": "code",
   "execution_count": 10,
   "metadata": {},
   "outputs": [
    {
     "data": {
      "text/plain": [
       "(72, 1)"
      ]
     },
     "execution_count": 10,
     "metadata": {},
     "output_type": "execute_result"
    }
   ],
   "source": [
    "df_produtos.describe()\n",
    "df_produtos.shape"
   ]
  },
  {
   "cell_type": "code",
   "execution_count": null,
   "metadata": {},
   "outputs": [],
   "source": [
    "#Importando e convertendo o cadastro clientes\n",
    "clientes = conexao.cursor()\n",
    "clientes.execute(f'select * from SA1990')\n",
    "tabela_clientes = clientes.fetchall()\n",
    "lista_clientes = [list(linha) for linha in tabela_clientes]\n",
    "len(lista_clientes)"
   ]
  },
  {
   "cell_type": "code",
   "execution_count": null,
   "metadata": {},
   "outputs": [],
   "source": []
  },
  {
   "cell_type": "code",
   "execution_count": null,
   "metadata": {},
   "outputs": [],
   "source": [
    "#Importando e convertendo o cadastro Vendas\n",
    "vendas = conexao.cursor()\n",
    "vendas.execute(f'select * from SC5990')\n",
    "tabela_vendas = vendas.fetchall()\n",
    "lista_vendas = [list(linha) for linha in tabela_vendas]\n",
    "len(lista_vendas)"
   ]
  },
  {
   "cell_type": "code",
   "execution_count": null,
   "metadata": {},
   "outputs": [],
   "source": [
    "#Importando e convertendo o cadastro itens de vendas\n",
    "\n",
    "itens_vendas = conexao.cursor()\n",
    "itens_vendas.execute(f'select * from SC6990')\n",
    "tabela_itens_vendas = itens_vendas.fetchall()\n",
    "lista_itens_vendas = [list(linha) for linha in tabela_itens_vendas]\n",
    "len(lista_itens_vendas)"
   ]
  },
  {
   "cell_type": "code",
   "execution_count": null,
   "metadata": {},
   "outputs": [],
   "source": [
    "# Cria um DataFrame a partir da lista\n",
    "df = pd.DataFrame(lista_clientes)\n",
    "\n",
    "# Obtém os nomes das colunas\n",
    "colunas = df.columns\n",
    "\n",
    "# Exibe os nomes das colunas\n",
    "print(colunas)"
   ]
  },
  {
   "cell_type": "code",
   "execution_count": null,
   "metadata": {},
   "outputs": [],
   "source": [
    "#colunas das tabelas\n",
    "print(lista_vendas[1][1])"
   ]
  },
  {
   "cell_type": "code",
   "execution_count": null,
   "metadata": {},
   "outputs": [],
   "source": [
    "print(type(lista_produtos))\n",
    "print()\n",
    "len(lista_produtos)"
   ]
  },
  {
   "cell_type": "code",
   "execution_count": null,
   "metadata": {},
   "outputs": [],
   "source": [
    "len(lista_clientes)\n",
    "len(lista_vendas)\n",
    "len(lista_itens_vendas)"
   ]
  }
 ],
 "metadata": {
  "kernelspec": {
   "display_name": "Python 3",
   "language": "python",
   "name": "python3"
  },
  "language_info": {
   "codemirror_mode": {
    "name": "ipython",
    "version": 3
   },
   "file_extension": ".py",
   "mimetype": "text/x-python",
   "name": "python",
   "nbconvert_exporter": "python",
   "pygments_lexer": "ipython3",
   "version": "3.11.6"
  }
 },
 "nbformat": 4,
 "nbformat_minor": 2
}
