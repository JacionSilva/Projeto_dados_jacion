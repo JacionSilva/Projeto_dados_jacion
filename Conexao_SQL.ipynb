{
 "cells": [
  {
   "cell_type": "code",
   "execution_count": 4,
   "metadata": {},
   "outputs": [],
   "source": [
    "from lib2to3.pgen2.driver import Driver\n",
    "\n",
    "import pyodbc\n",
    "import sqlexpress\n",
    "#senha = input(\"Digite a Senha\") cometado para usar senha fixa para testes.\n",
    "senha = 'Ja2313851@'\n",
    "\n",
    "def get_db_connection():\n",
    "    dados_conexao = (\n",
    "            \"Driver={SQL SERVER Native Client 11.0};\" #Nome do Driver\n",
    "            \"Server=JSILVA\\MSSQLSERVERNEW;\" #server do SQL \n",
    "            \"Database=TAF2210;\" #banco de dados do SQL\n",
    "            \"UID=sa;\" #user do SQL\n",
    "            \"PWD=\"+senha #senha do BANCO\n",
    "    )\n",
    "    print(str(dados_conexao))\n",
    "\n",
    "    conexao = pyodbc.connect(dados_conexao)\n",
    "    print(\"conexao bem sucedida\")\n",
    "    try:\n",
    "        conexao = pyodbc.connect(dados_conexao)\n",
    "        print(\"conexao bem sucedida\")\n",
    "    except Exception as e:\n",
    "        print(\"Erro ao tentar conectar:\", e)\n",
    "    return conexao\n",
    "#rows = conexao.execute(f'select DISTINCT(B1_DESC), * from SB1990')\n",
    "\n",
    "#for row in rows:\n",
    "#    print(row)"
   ]
  }
 ],
 "metadata": {
  "kernelspec": {
   "display_name": "Python 3",
   "language": "python",
   "name": "python3"
  },
  "language_info": {
   "codemirror_mode": {
    "name": "ipython",
    "version": 3
   },
   "file_extension": ".py",
   "mimetype": "text/x-python",
   "name": "python",
   "nbconvert_exporter": "python",
   "pygments_lexer": "ipython3",
   "version": "3.11.6"
  }
 },
 "nbformat": 4,
 "nbformat_minor": 2
}
