{
 "cells": [
  {
   "cell_type": "code",
   "execution_count": null,
   "metadata": {
    "notebookRunGroups": {
     "groupValue": "1"
    }
   },
   "outputs": [],
   "source": [
    "#bibliotestas importação\n",
    "import numpy as np\n",
    "import plotly.graph_objects as go\n",
    "import matplotlib.pyplot as plt\n",
    "import seaborn as sns\n",
    "import pandas as pd\n",
    "#importando bibliotecas\n",
    "from sklearn.linear_model import LinearRegression\n",
    "from sklearn.metrics import mean_squared_error, r2_score\n",
    "import numpy as np\n",
    "import plotly.express as px\n",
    "\n",
    "\n"
   ]
  },
  {
   "cell_type": "code",
   "execution_count": null,
   "metadata": {
    "notebookRunGroups": {
     "groupValue": "1"
    }
   },
   "outputs": [],
   "source": [
    "#data Frame\n",
    "dataFrame = pd.read_csv('https://gist.githubusercontent.com/altinodantas/2d57753e48eeacd20a6c1ff6ebe94f6d/raw/e6868648a75a340a651b5494e0f210f1010810aa/dados-delivery.csv')\n",
    "dataFrame"
   ]
  },
  {
   "cell_type": "code",
   "execution_count": null,
   "metadata": {
    "notebookRunGroups": {
     "groupValue": "1"
    }
   },
   "outputs": [],
   "source": [
    "#média para o temp de entrega \n",
    "media_tempo_entrega_real = dataFrame[\"tempo-entrega-real\"].mean()\n",
    "media_tempo_entrega_real"
   ]
  },
  {
   "cell_type": "code",
   "execution_count": null,
   "metadata": {
    "notebookRunGroups": {
     "groupValue": "1"
    }
   },
   "outputs": [],
   "source": [
    "#média para as avaliações\n",
    "media_avaliacoes = dataFrame[\"avaliacao\"].mean()\n",
    "media_avaliacoes"
   ]
  },
  {
   "cell_type": "code",
   "execution_count": null,
   "metadata": {
    "notebookRunGroups": {
     "groupValue": "1"
    }
   },
   "outputs": [],
   "source": [
    "# Atribui a lista de avaliações à variável \"avaliacao\"\n",
    "avaliacao = dataFrame[\"avaliacao\"]\n",
    "tempoentregareal = dataFrame[\"tempo-entrega-real\"]\n",
    "\n",
    "# Cria uma lista vazia para armazenar as avaliações maiores que 8\n",
    "avaliacaomaiorque8 = []\n",
    "tempoentregareal2 = []\n",
    "\n",
    "# Itera sobre a lista de avaliações\n",
    "for avaliacao in avaliacao:\n",
    "\n",
    "    # Se a avaliação for maior que 8, adiciona-a à lista vazia\n",
    "    if avaliacao > 8.0:\n",
    "        avaliacaomaiorque8.append(avaliacao)\n",
    "\n",
    "for tempoentregareal in tempoentregareal:\n",
    "    if tempoentregareal != '':\n",
    "        tempoentregareal2.append(tempoentregareal)\n",
    "\n",
    "# Imprime a lista de avaliações maiores que 8\n",
    "print(avaliacaomaiorque8)\n",
    "print(tempoentregareal2)\n"
   ]
  },
  {
   "cell_type": "code",
   "execution_count": null,
   "metadata": {},
   "outputs": [],
   "source": [
    "#tratando os dados\n",
    "X = dataFrame[\"avaliacao\"]\n",
    "Y = dataFrame[\"tempo-entrega-real\"]\n",
    "\n",
    "# Use reshape para transformar X e Y em arrays bidimensionais\n",
    "X = np.array(X).reshape(-1, 1)\n",
    "Y = np.array(Y).reshape(-1, 1)\n",
    "#Criando Modelo de Regressão\n",
    "lr_model = LinearRegression()\n",
    "lr_model = lr_model.fit(X, Y)"
   ]
  },
  {
   "cell_type": "code",
   "execution_count": null,
   "metadata": {},
   "outputs": [],
   "source": [
    "#grafico com Linha\n",
    "ax = sns.regplot(x=\"População\", y=\"Vendas\", data=dataFrame)\n",
    "ax.set(xlabel='População (X)',\n",
    "       ylabel='Vendas (Y)')"
   ]
  },
  {
   "cell_type": "code",
   "execution_count": null,
   "metadata": {},
   "outputs": [],
   "source": [
    "#criando Gáfico \n",
    "\n",
    "# Criando o gráfico de dispersão\n",
    "fig = go.Figure()\n",
    "fig.Scatter(data = dataFrame, x=\"avaliacao\", y=\"tempo-entrega-real\")\n",
    "\n",
    "# Adicionando um título ao gráfico\n",
    "fig.update_layout(title=\"Média entrega x Avaliações\")\n",
    "\n",
    "# Adicionando rótulos aos eixos\n",
    "fig.update_xaxes(title=\"Avaliações\")\n",
    "fig.update_yaxes(title=\"tempo de entrega\")\n",
    "\n",
    "# Exibindo o gráfico\n",
    "fig.show()"
   ]
  }
 ],
 "metadata": {
  "kernelspec": {
   "display_name": "Python 3",
   "language": "python",
   "name": "python3"
  },
  "language_info": {
   "codemirror_mode": {
    "name": "ipython",
    "version": 3
   },
   "file_extension": ".py",
   "mimetype": "text/x-python",
   "name": "python",
   "nbconvert_exporter": "python",
   "pygments_lexer": "ipython3",
   "version": "3.11.6"
  }
 },
 "nbformat": 4,
 "nbformat_minor": 2
}
