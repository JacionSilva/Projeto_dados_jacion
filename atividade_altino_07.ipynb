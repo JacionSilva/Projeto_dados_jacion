{
 "cells": [
  {
   "cell_type": "code",
   "execution_count": 63,
   "metadata": {},
   "outputs": [],
   "source": [
    "import pandas as pd\n",
    "import matplotlib as plt\n",
    "import seaborn as sns\n",
    "import numpy as np\n",
    "from  sklearn.linear_model import LinearRegression\n",
    "from sklearn.metrics import mean_squared_error, r2_score\n",
    "import plotly.graph_objects as go\n",
    "import plotly.express as px"
   ]
  },
  {
   "cell_type": "code",
   "execution_count": 70,
   "metadata": {},
   "outputs": [
    {
     "ename": "UnicodeDecodeError",
     "evalue": "'utf-8' codec can't decode byte 0xd3 in position 808: invalid continuation byte",
     "output_type": "error",
     "traceback": [
      "\u001b[1;31m---------------------------------------------------------------------------\u001b[0m",
      "\u001b[1;31mUnicodeDecodeError\u001b[0m                        Traceback (most recent call last)",
      "\u001b[1;32md:\\2Programas\\Python\\MBA_Ciencia_dados\\Exercicios\\atividade_altino_07.ipynb Célula 2\u001b[0m line \u001b[0;36m1\n\u001b[1;32m----> <a href='vscode-notebook-cell:/d%3A/2Programas/Python/MBA_Ciencia_dados/Exercicios/atividade_altino_07.ipynb#W5sZmlsZQ%3D%3D?line=0'>1</a>\u001b[0m df \u001b[39m=\u001b[39m pd\u001b[39m.\u001b[39;49mread_csv(\u001b[39m'\u001b[39;49m\u001b[39mwaitlist_kidney_brazil.csv\u001b[39;49m\u001b[39m'\u001b[39;49m, sep\u001b[39m=\u001b[39;49m\u001b[39m'\u001b[39;49m\u001b[39m,\u001b[39;49m\u001b[39m'\u001b[39;49m)\n\u001b[0;32m      <a href='vscode-notebook-cell:/d%3A/2Programas/Python/MBA_Ciencia_dados/Exercicios/atividade_altino_07.ipynb#W5sZmlsZQ%3D%3D?line=1'>2</a>\u001b[0m df\n",
      "File \u001b[1;32m~\\AppData\\Local\\Packages\\PythonSoftwareFoundation.Python.3.11_qbz5n2kfra8p0\\LocalCache\\local-packages\\Python311\\site-packages\\pandas\\io\\parsers\\readers.py:948\u001b[0m, in \u001b[0;36mread_csv\u001b[1;34m(filepath_or_buffer, sep, delimiter, header, names, index_col, usecols, dtype, engine, converters, true_values, false_values, skipinitialspace, skiprows, skipfooter, nrows, na_values, keep_default_na, na_filter, verbose, skip_blank_lines, parse_dates, infer_datetime_format, keep_date_col, date_parser, date_format, dayfirst, cache_dates, iterator, chunksize, compression, thousands, decimal, lineterminator, quotechar, quoting, doublequote, escapechar, comment, encoding, encoding_errors, dialect, on_bad_lines, delim_whitespace, low_memory, memory_map, float_precision, storage_options, dtype_backend)\u001b[0m\n\u001b[0;32m    935\u001b[0m kwds_defaults \u001b[39m=\u001b[39m _refine_defaults_read(\n\u001b[0;32m    936\u001b[0m     dialect,\n\u001b[0;32m    937\u001b[0m     delimiter,\n\u001b[1;32m   (...)\u001b[0m\n\u001b[0;32m    944\u001b[0m     dtype_backend\u001b[39m=\u001b[39mdtype_backend,\n\u001b[0;32m    945\u001b[0m )\n\u001b[0;32m    946\u001b[0m kwds\u001b[39m.\u001b[39mupdate(kwds_defaults)\n\u001b[1;32m--> 948\u001b[0m \u001b[39mreturn\u001b[39;00m _read(filepath_or_buffer, kwds)\n",
      "File \u001b[1;32m~\\AppData\\Local\\Packages\\PythonSoftwareFoundation.Python.3.11_qbz5n2kfra8p0\\LocalCache\\local-packages\\Python311\\site-packages\\pandas\\io\\parsers\\readers.py:611\u001b[0m, in \u001b[0;36m_read\u001b[1;34m(filepath_or_buffer, kwds)\u001b[0m\n\u001b[0;32m    608\u001b[0m _validate_names(kwds\u001b[39m.\u001b[39mget(\u001b[39m\"\u001b[39m\u001b[39mnames\u001b[39m\u001b[39m\"\u001b[39m, \u001b[39mNone\u001b[39;00m))\n\u001b[0;32m    610\u001b[0m \u001b[39m# Create the parser.\u001b[39;00m\n\u001b[1;32m--> 611\u001b[0m parser \u001b[39m=\u001b[39m TextFileReader(filepath_or_buffer, \u001b[39m*\u001b[39;49m\u001b[39m*\u001b[39;49mkwds)\n\u001b[0;32m    613\u001b[0m \u001b[39mif\u001b[39;00m chunksize \u001b[39mor\u001b[39;00m iterator:\n\u001b[0;32m    614\u001b[0m     \u001b[39mreturn\u001b[39;00m parser\n",
      "File \u001b[1;32m~\\AppData\\Local\\Packages\\PythonSoftwareFoundation.Python.3.11_qbz5n2kfra8p0\\LocalCache\\local-packages\\Python311\\site-packages\\pandas\\io\\parsers\\readers.py:1448\u001b[0m, in \u001b[0;36mTextFileReader.__init__\u001b[1;34m(self, f, engine, **kwds)\u001b[0m\n\u001b[0;32m   1445\u001b[0m     \u001b[39mself\u001b[39m\u001b[39m.\u001b[39moptions[\u001b[39m\"\u001b[39m\u001b[39mhas_index_names\u001b[39m\u001b[39m\"\u001b[39m] \u001b[39m=\u001b[39m kwds[\u001b[39m\"\u001b[39m\u001b[39mhas_index_names\u001b[39m\u001b[39m\"\u001b[39m]\n\u001b[0;32m   1447\u001b[0m \u001b[39mself\u001b[39m\u001b[39m.\u001b[39mhandles: IOHandles \u001b[39m|\u001b[39m \u001b[39mNone\u001b[39;00m \u001b[39m=\u001b[39m \u001b[39mNone\u001b[39;00m\n\u001b[1;32m-> 1448\u001b[0m \u001b[39mself\u001b[39m\u001b[39m.\u001b[39m_engine \u001b[39m=\u001b[39m \u001b[39mself\u001b[39;49m\u001b[39m.\u001b[39;49m_make_engine(f, \u001b[39mself\u001b[39;49m\u001b[39m.\u001b[39;49mengine)\n",
      "File \u001b[1;32m~\\AppData\\Local\\Packages\\PythonSoftwareFoundation.Python.3.11_qbz5n2kfra8p0\\LocalCache\\local-packages\\Python311\\site-packages\\pandas\\io\\parsers\\readers.py:1723\u001b[0m, in \u001b[0;36mTextFileReader._make_engine\u001b[1;34m(self, f, engine)\u001b[0m\n\u001b[0;32m   1720\u001b[0m     \u001b[39mraise\u001b[39;00m \u001b[39mValueError\u001b[39;00m(msg)\n\u001b[0;32m   1722\u001b[0m \u001b[39mtry\u001b[39;00m:\n\u001b[1;32m-> 1723\u001b[0m     \u001b[39mreturn\u001b[39;00m mapping[engine](f, \u001b[39m*\u001b[39;49m\u001b[39m*\u001b[39;49m\u001b[39mself\u001b[39;49m\u001b[39m.\u001b[39;49moptions)\n\u001b[0;32m   1724\u001b[0m \u001b[39mexcept\u001b[39;00m \u001b[39mException\u001b[39;00m:\n\u001b[0;32m   1725\u001b[0m     \u001b[39mif\u001b[39;00m \u001b[39mself\u001b[39m\u001b[39m.\u001b[39mhandles \u001b[39mis\u001b[39;00m \u001b[39mnot\u001b[39;00m \u001b[39mNone\u001b[39;00m:\n",
      "File \u001b[1;32m~\\AppData\\Local\\Packages\\PythonSoftwareFoundation.Python.3.11_qbz5n2kfra8p0\\LocalCache\\local-packages\\Python311\\site-packages\\pandas\\io\\parsers\\c_parser_wrapper.py:93\u001b[0m, in \u001b[0;36mCParserWrapper.__init__\u001b[1;34m(self, src, **kwds)\u001b[0m\n\u001b[0;32m     90\u001b[0m \u001b[39mif\u001b[39;00m kwds[\u001b[39m\"\u001b[39m\u001b[39mdtype_backend\u001b[39m\u001b[39m\"\u001b[39m] \u001b[39m==\u001b[39m \u001b[39m\"\u001b[39m\u001b[39mpyarrow\u001b[39m\u001b[39m\"\u001b[39m:\n\u001b[0;32m     91\u001b[0m     \u001b[39m# Fail here loudly instead of in cython after reading\u001b[39;00m\n\u001b[0;32m     92\u001b[0m     import_optional_dependency(\u001b[39m\"\u001b[39m\u001b[39mpyarrow\u001b[39m\u001b[39m\"\u001b[39m)\n\u001b[1;32m---> 93\u001b[0m \u001b[39mself\u001b[39m\u001b[39m.\u001b[39m_reader \u001b[39m=\u001b[39m parsers\u001b[39m.\u001b[39;49mTextReader(src, \u001b[39m*\u001b[39;49m\u001b[39m*\u001b[39;49mkwds)\n\u001b[0;32m     95\u001b[0m \u001b[39mself\u001b[39m\u001b[39m.\u001b[39munnamed_cols \u001b[39m=\u001b[39m \u001b[39mself\u001b[39m\u001b[39m.\u001b[39m_reader\u001b[39m.\u001b[39munnamed_cols\n\u001b[0;32m     97\u001b[0m \u001b[39m# error: Cannot determine type of 'names'\u001b[39;00m\n",
      "File \u001b[1;32mparsers.pyx:579\u001b[0m, in \u001b[0;36mpandas._libs.parsers.TextReader.__cinit__\u001b[1;34m()\u001b[0m\n",
      "File \u001b[1;32mparsers.pyx:668\u001b[0m, in \u001b[0;36mpandas._libs.parsers.TextReader._get_header\u001b[1;34m()\u001b[0m\n",
      "File \u001b[1;32mparsers.pyx:879\u001b[0m, in \u001b[0;36mpandas._libs.parsers.TextReader._tokenize_rows\u001b[1;34m()\u001b[0m\n",
      "File \u001b[1;32mparsers.pyx:890\u001b[0m, in \u001b[0;36mpandas._libs.parsers.TextReader._check_tokenize_status\u001b[1;34m()\u001b[0m\n",
      "File \u001b[1;32mparsers.pyx:2050\u001b[0m, in \u001b[0;36mpandas._libs.parsers.raise_parser_error\u001b[1;34m()\u001b[0m\n",
      "\u001b[1;31mUnicodeDecodeError\u001b[0m: 'utf-8' codec can't decode byte 0xd3 in position 808: invalid continuation byte"
     ]
    }
   ],
   "source": [
    "df = pd.read_csv('waitlist_kidney_brazil.csv', sep=',')\n",
    "df"
   ]
  },
  {
   "cell_type": "code",
   "execution_count": 61,
   "metadata": {},
   "outputs": [
    {
     "ename": "AttributeError",
     "evalue": "'TextFileReader' object has no attribute 'info'",
     "output_type": "error",
     "traceback": [
      "\u001b[1;31m---------------------------------------------------------------------------\u001b[0m",
      "\u001b[1;31mAttributeError\u001b[0m                            Traceback (most recent call last)",
      "\u001b[1;32md:\\2Programas\\Python\\MBA_Ciencia_dados\\Exercicios\\atividade_altino_07.ipynb Célula 3\u001b[0m line \u001b[0;36m1\n\u001b[1;32m----> <a href='vscode-notebook-cell:/d%3A/2Programas/Python/MBA_Ciencia_dados/Exercicios/atividade_altino_07.ipynb#X11sZmlsZQ%3D%3D?line=0'>1</a>\u001b[0m df\u001b[39m.\u001b[39;49minfo\n",
      "\u001b[1;31mAttributeError\u001b[0m: 'TextFileReader' object has no attribute 'info'"
     ]
    }
   ],
   "source": [
    "df.info"
   ]
  },
  {
   "cell_type": "code",
   "execution_count": 54,
   "metadata": {},
   "outputs": [],
   "source": [
    "\n",
    "#lendo o arquivo\n",
    "arquivo = 'waitlist_kidney_brazil.csv'\n",
    "\n",
    "# Abre o arquivo com o método 'errors='ignore''\n",
    "com_arquivo = open(arquivo, 'r', encoding='utf-8', errors='ignore')\n",
    "\n",
    "#lê os dados do arquivo\n",
    "df_dados = com_arquivo.readlines()\n",
    "\n",
    "#Fecha o arquivo \n",
    "com_arquivo.close()\n",
    "\n",
    "#Substitui o byte 0xe3 por um ponto\n",
    "df_dados = [linha.replace(chr(0xe3), '.') for linha in df_dados]\n",
    "\n",
    "#cria um DataFrame com os dados\n",
    "df_kidney = pd.DataFrame(df_dados)\n"
   ]
  },
  {
   "cell_type": "code",
   "execution_count": 55,
   "metadata": {},
   "outputs": [
    {
     "data": {
      "text/plain": [
       "<bound method NDFrame.describe of                                                        0\n",
       "0      Id,date,age_at_list_registration,age_cat,time_...\n",
       "1      4,29/06/2017,67,Maior.60,1,Branca,M,Outras,1,A...\n",
       "2      5,03/11/2008,58,18.a.60,4,Branca,M,Diabetes,0,...\n",
       "3      6,13/07/2010,51,18.a.60,2,Branca,M,HAS,1,O,0,N...\n",
       "4      7,03/10/2011,52,18.a.60,17,Branca,M,Diabetes,0...\n",
       "...                                                  ...\n",
       "48149  56932,29/12/2004,62,Maior.60,14,Branca,F,Diabe...\n",
       "48150  56933,25/05/2004,50,18.a.60,121,Branca,F,GNC,1...\n",
       "48151  56934,11/02/2009,49,18.a.60,15,Negra,F,HAS,1,A...\n",
       "48152  56935,16/11/2017,83,Maior.60,26,Branca,F,Outra...\n",
       "48153  56937,06/05/2015,49,18.a.60,23,Parda,F,Outras,...\n",
       "\n",
       "[48154 rows x 1 columns]>"
      ]
     },
     "execution_count": 55,
     "metadata": {},
     "output_type": "execute_result"
    }
   ],
   "source": [
    "df_kidney.describe"
   ]
  },
  {
   "cell_type": "code",
   "execution_count": 51,
   "metadata": {},
   "outputs": [
    {
     "data": {
      "text/plain": [
       "<bound method DataFrame.info of                                                    Id;date;age_at_list_registration;age_cat;time_on_Dialysis;race;sex;underline_disease;diabetes;Blood_type;number_transfusion;gestation;number_gestation;prior_transplant;number_prior_transplant;subregion;cPRA;cPRA_cat;HLA_A1;HLA_A2;HLA_B1;HLA_B2;HLA_DR1;HLA_DR2;DR_00;B_00;A_00;chagas;anti.HBc;anti.HCV;agHBs;patient_still_on_list;death;Time_death;Transplant;Transplant_Y_N;X36MthsTx;Time_Tx;priorization;removed_list;razon_removed;time;event;Censura;;;;\n",
       "4;29/06/2017;67;Maior.60;1;Branca;M;Outras;1;A;...                            07;Não;Não;;392;0;0;;;;                                                                                                                                                                                                                                                                                                                                                                                                                  \n",
       "5;03/11/2008;58;18.a.60;4;Branca;M;Diabetes;0;A...                           87;Não;Não;;2066;2;0;;;;                                                                                                                                                                                                                                                                                                                                                                                                                  \n",
       "6;13/07/2010;51;18.a.60;2;Branca;M;HAS;1;O;0;Nã...  17;Não;Sim;Removido (suspenso > 365 dias);365;...                                                                                                                                                                                                                                                                                                                                                                                                                  \n",
       "7;03/10/2011;52;18.a.60;17;Branca;M;Diabetes;0;...  17;Não;Sim;Removido (suspenso > 365 dias);365;...                                                                                                                                                                                                                                                                                                                                                                                                                  \n",
       "8;05/07/2006;67;Maior.60;68;Parda;M;HAS;1;A;0;N...                            47;Não;Não;;194;2;0;;;;                                                                                                                                                                                                                                                                                                                                                                                                                  \n",
       "...                                                                                               ...                                                                                                                                                                                                                                                                                                                                                                                                                  \n",
       "56932;29/12/2004;62;Maior.60;14;Branca;F;Diabet...                            47;Não;Não;;344;2;0;;;;                                                                                                                                                                                                                                                                                                                                                                                                                  \n",
       "56933;25/05/2004;50;18.a.60;121;Branca;F;GNC;1;...                            3;Não;Não;;2919;2;0;;;;                                                                                                                                                                                                                                                                                                                                                                                                                  \n",
       "56934;11/02/2009;49;18.a.60;15;Negra;F;HAS;1;A;...                           23;Não;Não;;1237;2;0;;;;                                                                                                                                                                                                                                                                                                                                                                                                                  \n",
       "56935;16/11/2017;83;Maior.60;26;Branca;F;Outras...                             4;Não;Não;;252;0;0;;;;                                                                                                                                                                                                                                                                                                                                                                                                                  \n",
       "56937;06/05/2015;49;18.a.60;23;Parda;F;Outras;1...  17;Não;Sim;Removido (suspenso > 365 dias);605;...                                                                                                                                                                                                                                                                                                                                                                                                                  \n",
       "\n",
       "[48153 rows x 1 columns]>"
      ]
     },
     "execution_count": 51,
     "metadata": {},
     "output_type": "execute_result"
    }
   ],
   "source": [
    "df.info"
   ]
  },
  {
   "cell_type": "code",
   "execution_count": 49,
   "metadata": {},
   "outputs": [
    {
     "name": "stdout",
     "output_type": "stream",
     "text": [
      "<class 'pandas.core.frame.DataFrame'>\n",
      "Index: 48153 entries, 4;29/06/2017;67;Maior.60;1;Branca;M;Outras;1;A;0;Não;NA;Não;0;UNIFESP;0;Zero;1;26;44;51;3;7;heterozigoto;heterozigoto;heterozigoto;Não;Não;Não;Não;Sim;Não;13;Não;Não;0;13 to 56937;06/05/2015;49;18.a.60;23;Parda;F;Outras;1;A;1;Sim;9;Não;0;HCFMUSP;7;Entre_0_50;23;26;27;53;11;13;heterozigoto;heterozigoto;heterozigoto;Não;Não;Não;Não;Não;Não;39;Não;Não;0;20\n",
      "Data columns (total 1 columns):\n",
      " #   Column                                                                                                                                                                                                                                                                                                                                                                                                                                                                Non-Null Count  Dtype \n",
      "---  ------                                                                                                                                                                                                                                                                                                                                                                                                                                                                --------------  ----- \n",
      " 0   Id;date;age_at_list_registration;age_cat;time_on_Dialysis;race;sex;underline_disease;diabetes;Blood_type;number_transfusion;gestation;number_gestation;prior_transplant;number_prior_transplant;subregion;cPRA;cPRA_cat;HLA_A1;HLA_A2;HLA_B1;HLA_B2;HLA_DR1;HLA_DR2;DR_00;B_00;A_00;chagas;anti.HBc;anti.HCV;agHBs;patient_still_on_list;death;Time_death;Transplant;Transplant_Y_N;X36MthsTx;Time_Tx;priorization;removed_list;razon_removed;time;event;Censura;;;;  46508 non-null  object\n",
      "dtypes: object(1)\n",
      "memory usage: 752.4+ KB\n"
     ]
    }
   ],
   "source": [
    "df.info()"
   ]
  },
  {
   "cell_type": "code",
   "execution_count": 35,
   "metadata": {},
   "outputs": [
    {
     "data": {
      "text/plain": [
       "<bound method NDFrame.describe of                                                        0\n",
       "0      Id;date;age_at_list_registration;age_cat;time_...\n",
       "1      4;29/06/2017;67;Maior.60;1;Branca;M;Outras;1;A...\n",
       "2      5;03/11/2008;58;18.a.60;4;Branca;M;Diabetes;0;...\n",
       "3      6;13/07/2010;51;18.a.60;2;Branca;M;HAS;1;O;0;N...\n",
       "4      7;03/10/2011;52;18.a.60;17;Branca;M;Diabetes;0...\n",
       "...                                                  ...\n",
       "48149  56932;29/12/2004;62;Maior.60;14;Branca;F;Diabe...\n",
       "48150  56933;25/05/2004;50;18.a.60;121;Branca;F;GNC;1...\n",
       "48151  56934;11/02/2009;49;18.a.60;15;Negra;F;HAS;1;A...\n",
       "48152  56935;16/11/2017;83;Maior.60;26;Branca;F;Outra...\n",
       "48153  56937;06/05/2015;49;18.a.60;23;Parda;F;Outras;...\n",
       "\n",
       "[48154 rows x 1 columns]>"
      ]
     },
     "execution_count": 35,
     "metadata": {},
     "output_type": "execute_result"
    }
   ],
   "source": [
    "df_kidney.describe"
   ]
  },
  {
   "cell_type": "code",
   "execution_count": 36,
   "metadata": {},
   "outputs": [
    {
     "data": {
      "text/plain": [
       "(48154, 1)"
      ]
     },
     "execution_count": 36,
     "metadata": {},
     "output_type": "execute_result"
    }
   ],
   "source": [
    "df_kidney.shape"
   ]
  }
 ],
 "metadata": {
  "kernelspec": {
   "display_name": "Python 3",
   "language": "python",
   "name": "python3"
  },
  "language_info": {
   "codemirror_mode": {
    "name": "ipython",
    "version": 3
   },
   "file_extension": ".py",
   "mimetype": "text/x-python",
   "name": "python",
   "nbconvert_exporter": "python",
   "pygments_lexer": "ipython3",
   "version": "3.11.6"
  }
 },
 "nbformat": 4,
 "nbformat_minor": 2
}
